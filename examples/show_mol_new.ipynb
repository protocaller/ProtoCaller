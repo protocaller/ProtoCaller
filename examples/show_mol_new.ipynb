{
 "cells": [
  {
   "cell_type": "code",
   "execution_count": 1,
   "id": "e0afee15",
   "metadata": {},
   "outputs": [
    {
     "name": "stderr",
     "output_type": "stream",
     "text": [
      "RDKit WARNING: [20:26:41] Enabling RDKit 2019.09.3 jupyter extensions\n"
     ]
    }
   ],
   "source": [
    "from xyz2graph import MolGraph, to_networkx_graph, to_plotly_figure\n",
    "from plotly.offline import init_notebook_mode, iplot\n",
    "import numpy as np\n",
    "import pickle\n",
    "# Initiate the Plotly notebook mode\n",
    "from rdkit import Chem "
   ]
  },
  {
   "cell_type": "code",
   "execution_count": 6,
   "id": "89674ab7",
   "metadata": {
    "scrolled": false
   },
   "outputs": [
    {
     "data": {
      "text/html": [
       "        <script type=\"text/javascript\">\n",
       "        window.PlotlyConfig = {MathJaxConfig: 'local'};\n",
       "        if (window.MathJax) {MathJax.Hub.Config({SVG: {font: \"STIX-Web\"}});}\n",
       "        if (typeof require !== 'undefined') {\n",
       "        require.undef(\"plotly\");\n",
       "        requirejs.config({\n",
       "            paths: {\n",
       "                'plotly': ['https://cdn.plot.ly/plotly-latest.min']\n",
       "            }\n",
       "        });\n",
       "        require(['plotly'], function(Plotly) {\n",
       "            window._Plotly = Plotly;\n",
       "        });\n",
       "        }\n",
       "        </script>\n",
       "        "
      ]
     },
     "metadata": {},
     "output_type": "display_data"
    },
    {
     "data": {
      "application/vnd.plotly.v1+json": {
       "config": {
        "linkText": "Export to plot.ly",
        "plotlyServerURL": "https://plot.ly",
        "showLink": false
       },
       "data": [
        {
         "hoverinfo": "none",
         "marker": {
          "color": [
           "black",
           "black",
           "red",
           "black",
           "black",
           "black",
           "black",
           "black",
           "black",
           "black",
           "black",
           "black",
           "blue",
           "black",
           "black",
           "blue",
           "black",
           "blue",
           "blue",
           "black",
           "black",
           "black",
           "blue",
           "black",
           "black",
           "yellow",
           "white",
           "white",
           "white",
           "white",
           "white",
           "white",
           "white",
           "white",
           "white",
           "white",
           "white",
           "white",
           "white",
           "white",
           "white"
          ],
          "line": {
           "color": "lightgray",
           "width": 2
          },
          "opacity": 0.8,
          "size": 7,
          "symbol": "circle"
         },
         "mode": "markers",
         "text": [
          "C",
          "C",
          "O",
          "C",
          "C",
          "C",
          "C",
          "C",
          "C",
          "C",
          "C",
          "C",
          "N",
          "C",
          "C",
          "N",
          "C",
          "N",
          "N",
          "C",
          "C",
          "C",
          "N",
          "C",
          "C",
          "S",
          "H",
          "H",
          "H",
          "H",
          "H",
          "H",
          "H",
          "H",
          "H",
          "H",
          "H",
          "H",
          "H",
          "H",
          "H"
         ],
         "type": "scatter3d",
         "uid": "62b8b2e0-6220-4064-a474-80a0cb69979b",
         "x": [
          21.64,
          20.590000000000003,
          20.339999999999996,
          21.150000000000002,
          21.61,
          22.15,
          22.58,
          23.1,
          23.21,
          22.79,
          22.919999999999998,
          23.189999999999998,
          23.26,
          23.04,
          23.01,
          22.770000000000003,
          22.59,
          22.330000000000002,
          22.59,
          22.839999999999996,
          22.25,
          19.29,
          18.33,
          17.24,
          17.28,
          18.85,
          21.78,
          22.599999999999998,
          21.31,
          19.45,
          22.5,
          23.439999999999998,
          23.63,
          23.35,
          23.450000000000003,
          23.159999999999997,
          21.93,
          23.15,
          21.92,
          16.37,
          16.490000000000002
         ],
         "y": [
          25.04,
          23.96,
          23.84,
          22.73,
          21.77,
          20.590000000000003,
          19.57,
          18.42,
          18.29,
          19.3,
          19.13,
          20.169999999999998,
          19.66,
          18.31,
          17.35,
          16.080000000000002,
          15.8,
          14.48,
          16.66,
          17.95,
          20.459999999999997,
          24.310000000000002,
          23.490000000000002,
          23.96,
          25.259999999999998,
          25.87,
          25.18,
          24.729999999999997,
          25.990000000000002,
          23.42,
          19.68,
          17.6,
          17.36,
          21.230000000000004,
          20.21,
          17.56,
          14.01,
          14.059999999999999,
          21.28,
          23.330000000000002,
          25.84
         ],
         "z": [
          16.41,
          16.17,
          14.770000000000001,
          16.72,
          17.22,
          17.8,
          16.939999999999998,
          17.5,
          18.88,
          19.759999999999998,
          21.200000000000003,
          22.07,
          23.35,
          23.32,
          24.310000000000002,
          23.95,
          22.650000000000002,
          22.34,
          21.64,
          22,
          19.2,
          16.830000000000002,
          17.03,
          17.62,
          17.92,
          17.38,
          17.490000000000002,
          15.96,
          15.96,
          14.64,
          15.85,
          16.84,
          19.27,
          21.9,
          24.18,
          25.36,
          23.15,
          21.93,
          19.85,
          17.84,
          18.41
         ]
        },
        {
         "hoverinfo": "none",
         "marker": {
          "color": "grey",
          "opacity": 1,
          "size": 7
         },
         "mode": "lines",
         "type": "scatter3d",
         "uid": "3d09358a-acfd-4088-b9d2-3b68b2333c90",
         "x": [
          21.64,
          20.590000000000003,
          null,
          21.64,
          21.78,
          null,
          21.64,
          22.599999999999998,
          null,
          21.64,
          21.31,
          null,
          20.590000000000003,
          21.64,
          null,
          20.590000000000003,
          20.339999999999996,
          null,
          20.590000000000003,
          21.150000000000002,
          null,
          20.590000000000003,
          19.29,
          null,
          21.78,
          21.64,
          null,
          22.599999999999998,
          21.64,
          null,
          21.31,
          21.64,
          null,
          20.339999999999996,
          20.590000000000003,
          null,
          20.339999999999996,
          19.45,
          null,
          21.150000000000002,
          20.590000000000003,
          null,
          21.150000000000002,
          21.61,
          null,
          19.29,
          20.590000000000003,
          null,
          19.29,
          18.33,
          null,
          19.29,
          18.85,
          null,
          19.45,
          20.339999999999996,
          null,
          21.61,
          21.150000000000002,
          null,
          21.61,
          22.15,
          null,
          22.15,
          21.61,
          null,
          22.15,
          22.25,
          null,
          22.15,
          22.58,
          null,
          22.58,
          22.15,
          null,
          22.58,
          22.5,
          null,
          22.58,
          23.1,
          null,
          22.25,
          22.79,
          null,
          22.25,
          22.15,
          null,
          22.25,
          21.92,
          null,
          23.1,
          23.21,
          null,
          23.1,
          22.58,
          null,
          23.1,
          23.439999999999998,
          null,
          22.5,
          22.58,
          null,
          23.21,
          23.63,
          null,
          23.21,
          22.79,
          null,
          23.21,
          23.1,
          null,
          23.439999999999998,
          23.1,
          null,
          22.79,
          23.21,
          null,
          22.79,
          22.919999999999998,
          null,
          22.79,
          22.25,
          null,
          23.63,
          23.21,
          null,
          22.919999999999998,
          22.839999999999996,
          null,
          22.919999999999998,
          22.79,
          null,
          22.919999999999998,
          23.189999999999998,
          null,
          23.189999999999998,
          23.35,
          null,
          23.189999999999998,
          22.919999999999998,
          null,
          23.189999999999998,
          23.26,
          null,
          22.839999999999996,
          22.919999999999998,
          null,
          22.839999999999996,
          22.59,
          null,
          22.839999999999996,
          23.04,
          null,
          23.26,
          23.450000000000003,
          null,
          23.26,
          23.189999999999998,
          null,
          23.26,
          23.04,
          null,
          23.35,
          23.189999999999998,
          null,
          23.04,
          22.839999999999996,
          null,
          23.04,
          23.26,
          null,
          23.04,
          23.01,
          null,
          23.450000000000003,
          23.26,
          null,
          23.01,
          23.159999999999997,
          null,
          23.01,
          23.04,
          null,
          23.01,
          22.770000000000003,
          null,
          22.770000000000003,
          22.59,
          null,
          22.770000000000003,
          23.01,
          null,
          23.159999999999997,
          23.01,
          null,
          22.59,
          22.330000000000002,
          null,
          22.59,
          22.59,
          null,
          22.59,
          22.770000000000003,
          null,
          22.330000000000002,
          22.59,
          null,
          22.330000000000002,
          21.93,
          null,
          22.330000000000002,
          23.15,
          null,
          22.59,
          22.59,
          null,
          22.59,
          22.839999999999996,
          null,
          21.93,
          22.330000000000002,
          null,
          23.15,
          22.330000000000002,
          null,
          21.92,
          22.25,
          null,
          18.33,
          19.29,
          null,
          18.33,
          17.24,
          null,
          18.85,
          17.28,
          null,
          18.85,
          19.29,
          null,
          17.24,
          17.28,
          null,
          17.24,
          18.33,
          null,
          17.24,
          16.37,
          null,
          17.28,
          16.490000000000002,
          null,
          17.28,
          18.85,
          null,
          17.28,
          17.24,
          null,
          16.37,
          17.24,
          null,
          16.490000000000002,
          17.28,
          null
         ],
         "y": [
          25.04,
          23.96,
          null,
          25.04,
          25.18,
          null,
          25.04,
          24.729999999999997,
          null,
          25.04,
          25.990000000000002,
          null,
          23.96,
          25.04,
          null,
          23.96,
          23.84,
          null,
          23.96,
          22.73,
          null,
          23.96,
          24.310000000000002,
          null,
          25.18,
          25.04,
          null,
          24.729999999999997,
          25.04,
          null,
          25.990000000000002,
          25.04,
          null,
          23.84,
          23.96,
          null,
          23.84,
          23.42,
          null,
          22.73,
          23.96,
          null,
          22.73,
          21.77,
          null,
          24.310000000000002,
          23.96,
          null,
          24.310000000000002,
          23.490000000000002,
          null,
          24.310000000000002,
          25.87,
          null,
          23.42,
          23.84,
          null,
          21.77,
          22.73,
          null,
          21.77,
          20.590000000000003,
          null,
          20.590000000000003,
          21.77,
          null,
          20.590000000000003,
          20.459999999999997,
          null,
          20.590000000000003,
          19.57,
          null,
          19.57,
          20.590000000000003,
          null,
          19.57,
          19.68,
          null,
          19.57,
          18.42,
          null,
          20.459999999999997,
          19.3,
          null,
          20.459999999999997,
          20.590000000000003,
          null,
          20.459999999999997,
          21.28,
          null,
          18.42,
          18.29,
          null,
          18.42,
          19.57,
          null,
          18.42,
          17.6,
          null,
          19.68,
          19.57,
          null,
          18.29,
          17.36,
          null,
          18.29,
          19.3,
          null,
          18.29,
          18.42,
          null,
          17.6,
          18.42,
          null,
          19.3,
          18.29,
          null,
          19.3,
          19.13,
          null,
          19.3,
          20.459999999999997,
          null,
          17.36,
          18.29,
          null,
          19.13,
          17.95,
          null,
          19.13,
          19.3,
          null,
          19.13,
          20.169999999999998,
          null,
          20.169999999999998,
          21.230000000000004,
          null,
          20.169999999999998,
          19.13,
          null,
          20.169999999999998,
          19.66,
          null,
          17.95,
          19.13,
          null,
          17.95,
          16.66,
          null,
          17.95,
          18.31,
          null,
          19.66,
          20.21,
          null,
          19.66,
          20.169999999999998,
          null,
          19.66,
          18.31,
          null,
          21.230000000000004,
          20.169999999999998,
          null,
          18.31,
          17.95,
          null,
          18.31,
          19.66,
          null,
          18.31,
          17.35,
          null,
          20.21,
          19.66,
          null,
          17.35,
          17.56,
          null,
          17.35,
          18.31,
          null,
          17.35,
          16.080000000000002,
          null,
          16.080000000000002,
          15.8,
          null,
          16.080000000000002,
          17.35,
          null,
          17.56,
          17.35,
          null,
          15.8,
          14.48,
          null,
          15.8,
          16.66,
          null,
          15.8,
          16.080000000000002,
          null,
          14.48,
          15.8,
          null,
          14.48,
          14.01,
          null,
          14.48,
          14.059999999999999,
          null,
          16.66,
          15.8,
          null,
          16.66,
          17.95,
          null,
          14.01,
          14.48,
          null,
          14.059999999999999,
          14.48,
          null,
          21.28,
          20.459999999999997,
          null,
          23.490000000000002,
          24.310000000000002,
          null,
          23.490000000000002,
          23.96,
          null,
          25.87,
          25.259999999999998,
          null,
          25.87,
          24.310000000000002,
          null,
          23.96,
          25.259999999999998,
          null,
          23.96,
          23.490000000000002,
          null,
          23.96,
          23.330000000000002,
          null,
          25.259999999999998,
          25.84,
          null,
          25.259999999999998,
          25.87,
          null,
          25.259999999999998,
          23.96,
          null,
          23.330000000000002,
          23.96,
          null,
          25.84,
          25.259999999999998,
          null
         ],
         "z": [
          16.41,
          16.17,
          null,
          16.41,
          17.490000000000002,
          null,
          16.41,
          15.96,
          null,
          16.41,
          15.96,
          null,
          16.17,
          16.41,
          null,
          16.17,
          14.770000000000001,
          null,
          16.17,
          16.72,
          null,
          16.17,
          16.830000000000002,
          null,
          17.490000000000002,
          16.41,
          null,
          15.96,
          16.41,
          null,
          15.96,
          16.41,
          null,
          14.770000000000001,
          16.17,
          null,
          14.770000000000001,
          14.64,
          null,
          16.72,
          16.17,
          null,
          16.72,
          17.22,
          null,
          16.830000000000002,
          16.17,
          null,
          16.830000000000002,
          17.03,
          null,
          16.830000000000002,
          17.38,
          null,
          14.64,
          14.770000000000001,
          null,
          17.22,
          16.72,
          null,
          17.22,
          17.8,
          null,
          17.8,
          17.22,
          null,
          17.8,
          19.2,
          null,
          17.8,
          16.939999999999998,
          null,
          16.939999999999998,
          17.8,
          null,
          16.939999999999998,
          15.85,
          null,
          16.939999999999998,
          17.5,
          null,
          19.2,
          19.759999999999998,
          null,
          19.2,
          17.8,
          null,
          19.2,
          19.85,
          null,
          17.5,
          18.88,
          null,
          17.5,
          16.939999999999998,
          null,
          17.5,
          16.84,
          null,
          15.85,
          16.939999999999998,
          null,
          18.88,
          19.27,
          null,
          18.88,
          19.759999999999998,
          null,
          18.88,
          17.5,
          null,
          16.84,
          17.5,
          null,
          19.759999999999998,
          18.88,
          null,
          19.759999999999998,
          21.200000000000003,
          null,
          19.759999999999998,
          19.2,
          null,
          19.27,
          18.88,
          null,
          21.200000000000003,
          22,
          null,
          21.200000000000003,
          19.759999999999998,
          null,
          21.200000000000003,
          22.07,
          null,
          22.07,
          21.9,
          null,
          22.07,
          21.200000000000003,
          null,
          22.07,
          23.35,
          null,
          22,
          21.200000000000003,
          null,
          22,
          21.64,
          null,
          22,
          23.32,
          null,
          23.35,
          24.18,
          null,
          23.35,
          22.07,
          null,
          23.35,
          23.32,
          null,
          21.9,
          22.07,
          null,
          23.32,
          22,
          null,
          23.32,
          23.35,
          null,
          23.32,
          24.310000000000002,
          null,
          24.18,
          23.35,
          null,
          24.310000000000002,
          25.36,
          null,
          24.310000000000002,
          23.32,
          null,
          24.310000000000002,
          23.95,
          null,
          23.95,
          22.650000000000002,
          null,
          23.95,
          24.310000000000002,
          null,
          25.36,
          24.310000000000002,
          null,
          22.650000000000002,
          22.34,
          null,
          22.650000000000002,
          21.64,
          null,
          22.650000000000002,
          23.95,
          null,
          22.34,
          22.650000000000002,
          null,
          22.34,
          23.15,
          null,
          22.34,
          21.93,
          null,
          21.64,
          22.650000000000002,
          null,
          21.64,
          22,
          null,
          23.15,
          22.34,
          null,
          21.93,
          22.34,
          null,
          19.85,
          19.2,
          null,
          17.03,
          16.830000000000002,
          null,
          17.03,
          17.62,
          null,
          17.38,
          17.92,
          null,
          17.38,
          16.830000000000002,
          null,
          17.62,
          17.92,
          null,
          17.62,
          17.03,
          null,
          17.62,
          17.84,
          null,
          17.92,
          18.41,
          null,
          17.92,
          17.38,
          null,
          17.92,
          17.62,
          null,
          17.84,
          17.62,
          null,
          18.41,
          17.92,
          null
         ]
        },
        {
         "hoverinfo": "none",
         "marker": {
          "color": "darkorange",
          "opacity": 0.2,
          "size": 3
         },
         "mode": "lines",
         "type": "scatter3d",
         "uid": "76300862-01e3-4acf-aa52-a32ec63a2c58",
         "x": [],
         "y": [],
         "z": []
        }
       ],
       "layout": {
        "autosize": false,
        "hovermode": "closest",
        "margin": {
         "b": 0,
         "l": 0,
         "r": 0,
         "t": 0
        },
        "scene": {
         "xaxis": {
          "showbackground": false,
          "showgrid": false,
          "showspikes": false,
          "showticklabels": false,
          "title": {
           "font": {
            "color": "white"
           }
          },
          "zeroline": false
         },
         "yaxis": {
          "showbackground": false,
          "showgrid": false,
          "showspikes": false,
          "showticklabels": false,
          "title": {
           "font": {
            "color": "white"
           }
          },
          "zeroline": false
         },
         "zaxis": {
          "showbackground": false,
          "showgrid": false,
          "showspikes": false,
          "showticklabels": false,
          "title": {
           "font": {
            "color": "white"
           }
          },
          "zeroline": false
         }
        },
        "showlegend": false,
        "template": {
         "data": {
          "bar": [
           {
            "error_x": {
             "color": "#2a3f5f"
            },
            "error_y": {
             "color": "#2a3f5f"
            },
            "marker": {
             "line": {
              "color": "#E5ECF6",
              "width": 0.5
             }
            },
            "type": "bar"
           }
          ],
          "barpolar": [
           {
            "marker": {
             "line": {
              "color": "#E5ECF6",
              "width": 0.5
             }
            },
            "type": "barpolar"
           }
          ],
          "carpet": [
           {
            "aaxis": {
             "endlinecolor": "#2a3f5f",
             "gridcolor": "white",
             "linecolor": "white",
             "minorgridcolor": "white",
             "startlinecolor": "#2a3f5f"
            },
            "baxis": {
             "endlinecolor": "#2a3f5f",
             "gridcolor": "white",
             "linecolor": "white",
             "minorgridcolor": "white",
             "startlinecolor": "#2a3f5f"
            },
            "type": "carpet"
           }
          ],
          "choropleth": [
           {
            "colorbar": {
             "outlinewidth": 0,
             "ticks": ""
            },
            "type": "choropleth"
           }
          ],
          "contour": [
           {
            "colorbar": {
             "outlinewidth": 0,
             "ticks": ""
            },
            "colorscale": [
             [
              0,
              "#0d0887"
             ],
             [
              0.1111111111111111,
              "#46039f"
             ],
             [
              0.2222222222222222,
              "#7201a8"
             ],
             [
              0.3333333333333333,
              "#9c179e"
             ],
             [
              0.4444444444444444,
              "#bd3786"
             ],
             [
              0.5555555555555556,
              "#d8576b"
             ],
             [
              0.6666666666666666,
              "#ed7953"
             ],
             [
              0.7777777777777778,
              "#fb9f3a"
             ],
             [
              0.8888888888888888,
              "#fdca26"
             ],
             [
              1,
              "#f0f921"
             ]
            ],
            "type": "contour"
           }
          ],
          "contourcarpet": [
           {
            "colorbar": {
             "outlinewidth": 0,
             "ticks": ""
            },
            "type": "contourcarpet"
           }
          ],
          "heatmap": [
           {
            "colorbar": {
             "outlinewidth": 0,
             "ticks": ""
            },
            "colorscale": [
             [
              0,
              "#0d0887"
             ],
             [
              0.1111111111111111,
              "#46039f"
             ],
             [
              0.2222222222222222,
              "#7201a8"
             ],
             [
              0.3333333333333333,
              "#9c179e"
             ],
             [
              0.4444444444444444,
              "#bd3786"
             ],
             [
              0.5555555555555556,
              "#d8576b"
             ],
             [
              0.6666666666666666,
              "#ed7953"
             ],
             [
              0.7777777777777778,
              "#fb9f3a"
             ],
             [
              0.8888888888888888,
              "#fdca26"
             ],
             [
              1,
              "#f0f921"
             ]
            ],
            "type": "heatmap"
           }
          ],
          "heatmapgl": [
           {
            "colorbar": {
             "outlinewidth": 0,
             "ticks": ""
            },
            "colorscale": [
             [
              0,
              "#0d0887"
             ],
             [
              0.1111111111111111,
              "#46039f"
             ],
             [
              0.2222222222222222,
              "#7201a8"
             ],
             [
              0.3333333333333333,
              "#9c179e"
             ],
             [
              0.4444444444444444,
              "#bd3786"
             ],
             [
              0.5555555555555556,
              "#d8576b"
             ],
             [
              0.6666666666666666,
              "#ed7953"
             ],
             [
              0.7777777777777778,
              "#fb9f3a"
             ],
             [
              0.8888888888888888,
              "#fdca26"
             ],
             [
              1,
              "#f0f921"
             ]
            ],
            "type": "heatmapgl"
           }
          ],
          "histogram": [
           {
            "marker": {
             "colorbar": {
              "outlinewidth": 0,
              "ticks": ""
             }
            },
            "type": "histogram"
           }
          ],
          "histogram2d": [
           {
            "colorbar": {
             "outlinewidth": 0,
             "ticks": ""
            },
            "colorscale": [
             [
              0,
              "#0d0887"
             ],
             [
              0.1111111111111111,
              "#46039f"
             ],
             [
              0.2222222222222222,
              "#7201a8"
             ],
             [
              0.3333333333333333,
              "#9c179e"
             ],
             [
              0.4444444444444444,
              "#bd3786"
             ],
             [
              0.5555555555555556,
              "#d8576b"
             ],
             [
              0.6666666666666666,
              "#ed7953"
             ],
             [
              0.7777777777777778,
              "#fb9f3a"
             ],
             [
              0.8888888888888888,
              "#fdca26"
             ],
             [
              1,
              "#f0f921"
             ]
            ],
            "type": "histogram2d"
           }
          ],
          "histogram2dcontour": [
           {
            "colorbar": {
             "outlinewidth": 0,
             "ticks": ""
            },
            "colorscale": [
             [
              0,
              "#0d0887"
             ],
             [
              0.1111111111111111,
              "#46039f"
             ],
             [
              0.2222222222222222,
              "#7201a8"
             ],
             [
              0.3333333333333333,
              "#9c179e"
             ],
             [
              0.4444444444444444,
              "#bd3786"
             ],
             [
              0.5555555555555556,
              "#d8576b"
             ],
             [
              0.6666666666666666,
              "#ed7953"
             ],
             [
              0.7777777777777778,
              "#fb9f3a"
             ],
             [
              0.8888888888888888,
              "#fdca26"
             ],
             [
              1,
              "#f0f921"
             ]
            ],
            "type": "histogram2dcontour"
           }
          ],
          "mesh3d": [
           {
            "colorbar": {
             "outlinewidth": 0,
             "ticks": ""
            },
            "type": "mesh3d"
           }
          ],
          "parcoords": [
           {
            "line": {
             "colorbar": {
              "outlinewidth": 0,
              "ticks": ""
             }
            },
            "type": "parcoords"
           }
          ],
          "pie": [
           {
            "automargin": true,
            "type": "pie"
           }
          ],
          "scatter": [
           {
            "marker": {
             "colorbar": {
              "outlinewidth": 0,
              "ticks": ""
             }
            },
            "type": "scatter"
           }
          ],
          "scatter3d": [
           {
            "line": {
             "colorbar": {
              "outlinewidth": 0,
              "ticks": ""
             }
            },
            "marker": {
             "colorbar": {
              "outlinewidth": 0,
              "ticks": ""
             }
            },
            "type": "scatter3d"
           }
          ],
          "scattercarpet": [
           {
            "marker": {
             "colorbar": {
              "outlinewidth": 0,
              "ticks": ""
             }
            },
            "type": "scattercarpet"
           }
          ],
          "scattergeo": [
           {
            "marker": {
             "colorbar": {
              "outlinewidth": 0,
              "ticks": ""
             }
            },
            "type": "scattergeo"
           }
          ],
          "scattergl": [
           {
            "marker": {
             "colorbar": {
              "outlinewidth": 0,
              "ticks": ""
             }
            },
            "type": "scattergl"
           }
          ],
          "scattermapbox": [
           {
            "marker": {
             "colorbar": {
              "outlinewidth": 0,
              "ticks": ""
             }
            },
            "type": "scattermapbox"
           }
          ],
          "scatterpolar": [
           {
            "marker": {
             "colorbar": {
              "outlinewidth": 0,
              "ticks": ""
             }
            },
            "type": "scatterpolar"
           }
          ],
          "scatterpolargl": [
           {
            "marker": {
             "colorbar": {
              "outlinewidth": 0,
              "ticks": ""
             }
            },
            "type": "scatterpolargl"
           }
          ],
          "scatterternary": [
           {
            "marker": {
             "colorbar": {
              "outlinewidth": 0,
              "ticks": ""
             }
            },
            "type": "scatterternary"
           }
          ],
          "surface": [
           {
            "colorbar": {
             "outlinewidth": 0,
             "ticks": ""
            },
            "colorscale": [
             [
              0,
              "#0d0887"
             ],
             [
              0.1111111111111111,
              "#46039f"
             ],
             [
              0.2222222222222222,
              "#7201a8"
             ],
             [
              0.3333333333333333,
              "#9c179e"
             ],
             [
              0.4444444444444444,
              "#bd3786"
             ],
             [
              0.5555555555555556,
              "#d8576b"
             ],
             [
              0.6666666666666666,
              "#ed7953"
             ],
             [
              0.7777777777777778,
              "#fb9f3a"
             ],
             [
              0.8888888888888888,
              "#fdca26"
             ],
             [
              1,
              "#f0f921"
             ]
            ],
            "type": "surface"
           }
          ],
          "table": [
           {
            "cells": {
             "fill": {
              "color": "#EBF0F8"
             },
             "line": {
              "color": "white"
             }
            },
            "header": {
             "fill": {
              "color": "#C8D4E3"
             },
             "line": {
              "color": "white"
             }
            },
            "type": "table"
           }
          ]
         },
         "layout": {
          "annotationdefaults": {
           "arrowcolor": "#2a3f5f",
           "arrowhead": 0,
           "arrowwidth": 1
          },
          "autotypenumbers": "strict",
          "coloraxis": {
           "colorbar": {
            "outlinewidth": 0,
            "ticks": ""
           }
          },
          "colorscale": {
           "diverging": [
            [
             0,
             "#8e0152"
            ],
            [
             0.1,
             "#c51b7d"
            ],
            [
             0.2,
             "#de77ae"
            ],
            [
             0.3,
             "#f1b6da"
            ],
            [
             0.4,
             "#fde0ef"
            ],
            [
             0.5,
             "#f7f7f7"
            ],
            [
             0.6,
             "#e6f5d0"
            ],
            [
             0.7,
             "#b8e186"
            ],
            [
             0.8,
             "#7fbc41"
            ],
            [
             0.9,
             "#4d9221"
            ],
            [
             1,
             "#276419"
            ]
           ],
           "sequential": [
            [
             0,
             "#0d0887"
            ],
            [
             0.1111111111111111,
             "#46039f"
            ],
            [
             0.2222222222222222,
             "#7201a8"
            ],
            [
             0.3333333333333333,
             "#9c179e"
            ],
            [
             0.4444444444444444,
             "#bd3786"
            ],
            [
             0.5555555555555556,
             "#d8576b"
            ],
            [
             0.6666666666666666,
             "#ed7953"
            ],
            [
             0.7777777777777778,
             "#fb9f3a"
            ],
            [
             0.8888888888888888,
             "#fdca26"
            ],
            [
             1,
             "#f0f921"
            ]
           ],
           "sequentialminus": [
            [
             0,
             "#0d0887"
            ],
            [
             0.1111111111111111,
             "#46039f"
            ],
            [
             0.2222222222222222,
             "#7201a8"
            ],
            [
             0.3333333333333333,
             "#9c179e"
            ],
            [
             0.4444444444444444,
             "#bd3786"
            ],
            [
             0.5555555555555556,
             "#d8576b"
            ],
            [
             0.6666666666666666,
             "#ed7953"
            ],
            [
             0.7777777777777778,
             "#fb9f3a"
            ],
            [
             0.8888888888888888,
             "#fdca26"
            ],
            [
             1,
             "#f0f921"
            ]
           ]
          },
          "colorway": [
           "#636efa",
           "#EF553B",
           "#00cc96",
           "#ab63fa",
           "#FFA15A",
           "#19d3f3",
           "#FF6692",
           "#B6E880",
           "#FF97FF",
           "#FECB52"
          ],
          "font": {
           "color": "#2a3f5f"
          },
          "geo": {
           "bgcolor": "white",
           "lakecolor": "white",
           "landcolor": "#E5ECF6",
           "showlakes": true,
           "showland": true,
           "subunitcolor": "white"
          },
          "hoverlabel": {
           "align": "left"
          },
          "hovermode": "closest",
          "mapbox": {
           "style": "light"
          },
          "paper_bgcolor": "white",
          "plot_bgcolor": "#E5ECF6",
          "polar": {
           "angularaxis": {
            "gridcolor": "white",
            "linecolor": "white",
            "ticks": ""
           },
           "bgcolor": "#E5ECF6",
           "radialaxis": {
            "gridcolor": "white",
            "linecolor": "white",
            "ticks": ""
           }
          },
          "scene": {
           "xaxis": {
            "backgroundcolor": "#E5ECF6",
            "gridcolor": "white",
            "gridwidth": 2,
            "linecolor": "white",
            "showbackground": true,
            "ticks": "",
            "zerolinecolor": "white"
           },
           "yaxis": {
            "backgroundcolor": "#E5ECF6",
            "gridcolor": "white",
            "gridwidth": 2,
            "linecolor": "white",
            "showbackground": true,
            "ticks": "",
            "zerolinecolor": "white"
           },
           "zaxis": {
            "backgroundcolor": "#E5ECF6",
            "gridcolor": "white",
            "gridwidth": 2,
            "linecolor": "white",
            "showbackground": true,
            "ticks": "",
            "zerolinecolor": "white"
           }
          },
          "shapedefaults": {
           "line": {
            "color": "#2a3f5f"
           }
          },
          "ternary": {
           "aaxis": {
            "gridcolor": "white",
            "linecolor": "white",
            "ticks": ""
           },
           "baxis": {
            "gridcolor": "white",
            "linecolor": "white",
            "ticks": ""
           },
           "bgcolor": "#E5ECF6",
           "caxis": {
            "gridcolor": "white",
            "linecolor": "white",
            "ticks": ""
           }
          },
          "title": {
           "x": 0.05
          },
          "xaxis": {
           "automargin": true,
           "gridcolor": "white",
           "linecolor": "white",
           "ticks": "",
           "title": {
            "standoff": 15
           },
           "zerolinecolor": "white",
           "zerolinewidth": 2
          },
          "yaxis": {
           "automargin": true,
           "gridcolor": "white",
           "linecolor": "white",
           "ticks": "",
           "title": {
            "standoff": 15
           },
           "zerolinecolor": "white",
           "zerolinewidth": 2
          }
         }
        },
        "updatemenus": [
         {
          "buttons": [
           {
            "args": [
             {
              "scene.annotations": [
               {
                "showarrow": false,
                "text": "C",
                "x": 21.64,
                "y": 25.04,
                "yshift": 15,
                "z": 16.41
               },
               {
                "showarrow": false,
                "text": "C",
                "x": 20.590000000000003,
                "y": 23.96,
                "yshift": 15,
                "z": 16.17
               },
               {
                "showarrow": false,
                "text": "O",
                "x": 20.339999999999996,
                "y": 23.84,
                "yshift": 15,
                "z": 14.770000000000001
               },
               {
                "showarrow": false,
                "text": "C",
                "x": 21.150000000000002,
                "y": 22.73,
                "yshift": 15,
                "z": 16.72
               },
               {
                "showarrow": false,
                "text": "C",
                "x": 21.61,
                "y": 21.77,
                "yshift": 15,
                "z": 17.22
               },
               {
                "showarrow": false,
                "text": "C",
                "x": 22.15,
                "y": 20.590000000000003,
                "yshift": 15,
                "z": 17.8
               },
               {
                "showarrow": false,
                "text": "C",
                "x": 22.58,
                "y": 19.57,
                "yshift": 15,
                "z": 16.939999999999998
               },
               {
                "showarrow": false,
                "text": "C",
                "x": 23.1,
                "y": 18.42,
                "yshift": 15,
                "z": 17.5
               },
               {
                "showarrow": false,
                "text": "C",
                "x": 23.21,
                "y": 18.29,
                "yshift": 15,
                "z": 18.88
               },
               {
                "showarrow": false,
                "text": "C",
                "x": 22.79,
                "y": 19.3,
                "yshift": 15,
                "z": 19.759999999999998
               },
               {
                "showarrow": false,
                "text": "C",
                "x": 22.919999999999998,
                "y": 19.13,
                "yshift": 15,
                "z": 21.200000000000003
               },
               {
                "showarrow": false,
                "text": "C",
                "x": 23.189999999999998,
                "y": 20.169999999999998,
                "yshift": 15,
                "z": 22.07
               },
               {
                "showarrow": false,
                "text": "N",
                "x": 23.26,
                "y": 19.66,
                "yshift": 15,
                "z": 23.35
               },
               {
                "showarrow": false,
                "text": "C",
                "x": 23.04,
                "y": 18.31,
                "yshift": 15,
                "z": 23.32
               },
               {
                "showarrow": false,
                "text": "C",
                "x": 23.01,
                "y": 17.35,
                "yshift": 15,
                "z": 24.310000000000002
               },
               {
                "showarrow": false,
                "text": "N",
                "x": 22.770000000000003,
                "y": 16.080000000000002,
                "yshift": 15,
                "z": 23.95
               },
               {
                "showarrow": false,
                "text": "C",
                "x": 22.59,
                "y": 15.8,
                "yshift": 15,
                "z": 22.650000000000002
               },
               {
                "showarrow": false,
                "text": "N",
                "x": 22.330000000000002,
                "y": 14.48,
                "yshift": 15,
                "z": 22.34
               },
               {
                "showarrow": false,
                "text": "N",
                "x": 22.59,
                "y": 16.66,
                "yshift": 15,
                "z": 21.64
               },
               {
                "showarrow": false,
                "text": "C",
                "x": 22.839999999999996,
                "y": 17.95,
                "yshift": 15,
                "z": 22
               },
               {
                "showarrow": false,
                "text": "C",
                "x": 22.25,
                "y": 20.459999999999997,
                "yshift": 15,
                "z": 19.2
               },
               {
                "showarrow": false,
                "text": "C",
                "x": 19.29,
                "y": 24.310000000000002,
                "yshift": 15,
                "z": 16.830000000000002
               },
               {
                "showarrow": false,
                "text": "N",
                "x": 18.33,
                "y": 23.490000000000002,
                "yshift": 15,
                "z": 17.03
               },
               {
                "showarrow": false,
                "text": "C",
                "x": 17.24,
                "y": 23.96,
                "yshift": 15,
                "z": 17.62
               },
               {
                "showarrow": false,
                "text": "C",
                "x": 17.28,
                "y": 25.259999999999998,
                "yshift": 15,
                "z": 17.92
               },
               {
                "showarrow": false,
                "text": "S",
                "x": 18.85,
                "y": 25.87,
                "yshift": 15,
                "z": 17.38
               },
               {
                "showarrow": false,
                "text": "H",
                "x": 21.78,
                "y": 25.18,
                "yshift": 15,
                "z": 17.490000000000002
               },
               {
                "showarrow": false,
                "text": "H",
                "x": 22.599999999999998,
                "y": 24.729999999999997,
                "yshift": 15,
                "z": 15.96
               },
               {
                "showarrow": false,
                "text": "H",
                "x": 21.31,
                "y": 25.990000000000002,
                "yshift": 15,
                "z": 15.96
               },
               {
                "showarrow": false,
                "text": "H",
                "x": 19.45,
                "y": 23.42,
                "yshift": 15,
                "z": 14.64
               },
               {
                "showarrow": false,
                "text": "H",
                "x": 22.5,
                "y": 19.68,
                "yshift": 15,
                "z": 15.85
               },
               {
                "showarrow": false,
                "text": "H",
                "x": 23.439999999999998,
                "y": 17.6,
                "yshift": 15,
                "z": 16.84
               },
               {
                "showarrow": false,
                "text": "H",
                "x": 23.63,
                "y": 17.36,
                "yshift": 15,
                "z": 19.27
               },
               {
                "showarrow": false,
                "text": "H",
                "x": 23.35,
                "y": 21.230000000000004,
                "yshift": 15,
                "z": 21.9
               },
               {
                "showarrow": false,
                "text": "H",
                "x": 23.450000000000003,
                "y": 20.21,
                "yshift": 15,
                "z": 24.18
               },
               {
                "showarrow": false,
                "text": "H",
                "x": 23.159999999999997,
                "y": 17.56,
                "yshift": 15,
                "z": 25.36
               },
               {
                "showarrow": false,
                "text": "H",
                "x": 21.93,
                "y": 14.01,
                "yshift": 15,
                "z": 23.15
               },
               {
                "showarrow": false,
                "text": "H",
                "x": 23.15,
                "y": 14.059999999999999,
                "yshift": 15,
                "z": 21.93
               },
               {
                "showarrow": false,
                "text": "H",
                "x": 21.92,
                "y": 21.28,
                "yshift": 15,
                "z": 19.85
               },
               {
                "showarrow": false,
                "text": "H",
                "x": 16.37,
                "y": 23.330000000000002,
                "yshift": 15,
                "z": 17.84
               },
               {
                "showarrow": false,
                "text": "H",
                "x": 16.490000000000002,
                "y": 25.84,
                "yshift": 15,
                "z": 18.41
               }
              ]
             }
            ],
            "label": "Initial state",
            "method": "relayout"
           },
           {
            "args": [
             {
              "scene.annotations": [
               {
                "showarrow": false,
                "text": "C",
                "x": 21.64,
                "y": 25.04,
                "yshift": 15,
                "z": 16.41
               },
               {
                "showarrow": false,
                "text": "C",
                "x": 20.590000000000003,
                "y": 23.96,
                "yshift": 15,
                "z": 16.17
               },
               {
                "showarrow": false,
                "text": "O",
                "x": 20.339999999999996,
                "y": 23.84,
                "yshift": 15,
                "z": 14.770000000000001
               },
               {
                "showarrow": false,
                "text": "C",
                "x": 21.150000000000002,
                "y": 22.73,
                "yshift": 15,
                "z": 16.72
               },
               {
                "showarrow": false,
                "text": "C",
                "x": 21.61,
                "y": 21.77,
                "yshift": 15,
                "z": 17.22
               },
               {
                "showarrow": false,
                "text": "C",
                "x": 22.15,
                "y": 20.590000000000003,
                "yshift": 15,
                "z": 17.8
               },
               {
                "showarrow": false,
                "text": "C",
                "x": 22.58,
                "y": 19.57,
                "yshift": 15,
                "z": 16.939999999999998
               },
               {
                "showarrow": false,
                "text": "C",
                "x": 23.1,
                "y": 18.42,
                "yshift": 15,
                "z": 17.5
               },
               {
                "showarrow": false,
                "text": "C",
                "x": 23.21,
                "y": 18.29,
                "yshift": 15,
                "z": 18.88
               },
               {
                "showarrow": false,
                "text": "C",
                "x": 22.79,
                "y": 19.3,
                "yshift": 15,
                "z": 19.759999999999998
               },
               {
                "showarrow": false,
                "text": "C",
                "x": 22.919999999999998,
                "y": 19.13,
                "yshift": 15,
                "z": 21.200000000000003
               },
               {
                "showarrow": false,
                "text": "C",
                "x": 23.189999999999998,
                "y": 20.169999999999998,
                "yshift": 15,
                "z": 22.07
               },
               {
                "showarrow": false,
                "text": "N",
                "x": 23.26,
                "y": 19.66,
                "yshift": 15,
                "z": 23.35
               },
               {
                "showarrow": false,
                "text": "C",
                "x": 23.04,
                "y": 18.31,
                "yshift": 15,
                "z": 23.32
               },
               {
                "showarrow": false,
                "text": "C",
                "x": 23.01,
                "y": 17.35,
                "yshift": 15,
                "z": 24.310000000000002
               },
               {
                "showarrow": false,
                "text": "N",
                "x": 22.770000000000003,
                "y": 16.080000000000002,
                "yshift": 15,
                "z": 23.95
               },
               {
                "showarrow": false,
                "text": "C",
                "x": 22.59,
                "y": 15.8,
                "yshift": 15,
                "z": 22.650000000000002
               },
               {
                "showarrow": false,
                "text": "N",
                "x": 22.330000000000002,
                "y": 14.48,
                "yshift": 15,
                "z": 22.34
               },
               {
                "showarrow": false,
                "text": "N",
                "x": 22.59,
                "y": 16.66,
                "yshift": 15,
                "z": 21.64
               },
               {
                "showarrow": false,
                "text": "C",
                "x": 22.839999999999996,
                "y": 17.95,
                "yshift": 15,
                "z": 22
               },
               {
                "showarrow": false,
                "text": "C",
                "x": 22.25,
                "y": 20.459999999999997,
                "yshift": 15,
                "z": 19.2
               },
               {
                "showarrow": false,
                "text": "C",
                "x": 19.29,
                "y": 24.310000000000002,
                "yshift": 15,
                "z": 16.830000000000002
               },
               {
                "showarrow": false,
                "text": "N",
                "x": 18.33,
                "y": 23.490000000000002,
                "yshift": 15,
                "z": 17.03
               },
               {
                "showarrow": false,
                "text": "C",
                "x": 17.24,
                "y": 23.96,
                "yshift": 15,
                "z": 17.62
               },
               {
                "showarrow": false,
                "text": "C",
                "x": 17.28,
                "y": 25.259999999999998,
                "yshift": 15,
                "z": 17.92
               },
               {
                "showarrow": false,
                "text": "S",
                "x": 18.85,
                "y": 25.87,
                "yshift": 15,
                "z": 17.38
               },
               {
                "showarrow": false,
                "text": "H",
                "x": 21.78,
                "y": 25.18,
                "yshift": 15,
                "z": 17.490000000000002
               },
               {
                "showarrow": false,
                "text": "H",
                "x": 22.599999999999998,
                "y": 24.729999999999997,
                "yshift": 15,
                "z": 15.96
               },
               {
                "showarrow": false,
                "text": "H",
                "x": 21.31,
                "y": 25.990000000000002,
                "yshift": 15,
                "z": 15.96
               },
               {
                "showarrow": false,
                "text": "H",
                "x": 19.45,
                "y": 23.42,
                "yshift": 15,
                "z": 14.64
               },
               {
                "showarrow": false,
                "text": "H",
                "x": 22.5,
                "y": 19.68,
                "yshift": 15,
                "z": 15.85
               },
               {
                "showarrow": false,
                "text": "F",
                "x": 23.439999999999998,
                "y": 17.6,
                "yshift": 15,
                "z": 16.84
               },
               {
                "showarrow": false,
                "text": "H",
                "x": 23.63,
                "y": 17.36,
                "yshift": 15,
                "z": 19.27
               },
               {
                "showarrow": false,
                "text": "H",
                "x": 23.35,
                "y": 21.230000000000004,
                "yshift": 15,
                "z": 21.9
               },
               {
                "showarrow": false,
                "text": "H",
                "x": 23.450000000000003,
                "y": 20.21,
                "yshift": 15,
                "z": 24.18
               },
               {
                "showarrow": false,
                "text": "H",
                "x": 23.159999999999997,
                "y": 17.56,
                "yshift": 15,
                "z": 25.36
               },
               {
                "showarrow": false,
                "text": "H",
                "x": 21.93,
                "y": 14.01,
                "yshift": 15,
                "z": 23.15
               },
               {
                "showarrow": false,
                "text": "H",
                "x": 23.15,
                "y": 14.059999999999999,
                "yshift": 15,
                "z": 21.93
               },
               {
                "showarrow": false,
                "text": "H",
                "x": 21.92,
                "y": 21.28,
                "yshift": 15,
                "z": 19.85
               },
               {
                "showarrow": false,
                "text": "H",
                "x": 16.37,
                "y": 23.330000000000002,
                "yshift": 15,
                "z": 17.84
               },
               {
                "showarrow": false,
                "text": "H",
                "x": 16.490000000000002,
                "y": 25.84,
                "yshift": 15,
                "z": 18.41
               }
              ]
             }
            ],
            "label": "End state",
            "method": "relayout"
           },
           {
            "args": [
             {
              "scene.annotations": [
               {
                "showarrow": false,
                "text": "1",
                "x": 21.64,
                "y": 25.04,
                "yshift": 15,
                "z": 16.41
               },
               {
                "showarrow": false,
                "text": "2",
                "x": 20.590000000000003,
                "y": 23.96,
                "yshift": 15,
                "z": 16.17
               },
               {
                "showarrow": false,
                "text": "3",
                "x": 20.339999999999996,
                "y": 23.84,
                "yshift": 15,
                "z": 14.770000000000001
               },
               {
                "showarrow": false,
                "text": "4",
                "x": 21.150000000000002,
                "y": 22.73,
                "yshift": 15,
                "z": 16.72
               },
               {
                "showarrow": false,
                "text": "5",
                "x": 21.61,
                "y": 21.77,
                "yshift": 15,
                "z": 17.22
               },
               {
                "showarrow": false,
                "text": "6",
                "x": 22.15,
                "y": 20.590000000000003,
                "yshift": 15,
                "z": 17.8
               },
               {
                "showarrow": false,
                "text": "7",
                "x": 22.58,
                "y": 19.57,
                "yshift": 15,
                "z": 16.939999999999998
               },
               {
                "showarrow": false,
                "text": "8",
                "x": 23.1,
                "y": 18.42,
                "yshift": 15,
                "z": 17.5
               },
               {
                "showarrow": false,
                "text": "9",
                "x": 23.21,
                "y": 18.29,
                "yshift": 15,
                "z": 18.88
               },
               {
                "showarrow": false,
                "text": "10",
                "x": 22.79,
                "y": 19.3,
                "yshift": 15,
                "z": 19.759999999999998
               },
               {
                "showarrow": false,
                "text": "11",
                "x": 22.919999999999998,
                "y": 19.13,
                "yshift": 15,
                "z": 21.200000000000003
               },
               {
                "showarrow": false,
                "text": "12",
                "x": 23.189999999999998,
                "y": 20.169999999999998,
                "yshift": 15,
                "z": 22.07
               },
               {
                "showarrow": false,
                "text": "13",
                "x": 23.26,
                "y": 19.66,
                "yshift": 15,
                "z": 23.35
               },
               {
                "showarrow": false,
                "text": "14",
                "x": 23.04,
                "y": 18.31,
                "yshift": 15,
                "z": 23.32
               },
               {
                "showarrow": false,
                "text": "15",
                "x": 23.01,
                "y": 17.35,
                "yshift": 15,
                "z": 24.310000000000002
               },
               {
                "showarrow": false,
                "text": "16",
                "x": 22.770000000000003,
                "y": 16.080000000000002,
                "yshift": 15,
                "z": 23.95
               },
               {
                "showarrow": false,
                "text": "17",
                "x": 22.59,
                "y": 15.8,
                "yshift": 15,
                "z": 22.650000000000002
               },
               {
                "showarrow": false,
                "text": "18",
                "x": 22.330000000000002,
                "y": 14.48,
                "yshift": 15,
                "z": 22.34
               },
               {
                "showarrow": false,
                "text": "19",
                "x": 22.59,
                "y": 16.66,
                "yshift": 15,
                "z": 21.64
               },
               {
                "showarrow": false,
                "text": "20",
                "x": 22.839999999999996,
                "y": 17.95,
                "yshift": 15,
                "z": 22
               },
               {
                "showarrow": false,
                "text": "21",
                "x": 22.25,
                "y": 20.459999999999997,
                "yshift": 15,
                "z": 19.2
               },
               {
                "showarrow": false,
                "text": "22",
                "x": 19.29,
                "y": 24.310000000000002,
                "yshift": 15,
                "z": 16.830000000000002
               },
               {
                "showarrow": false,
                "text": "23",
                "x": 18.33,
                "y": 23.490000000000002,
                "yshift": 15,
                "z": 17.03
               },
               {
                "showarrow": false,
                "text": "24",
                "x": 17.24,
                "y": 23.96,
                "yshift": 15,
                "z": 17.62
               },
               {
                "showarrow": false,
                "text": "25",
                "x": 17.28,
                "y": 25.259999999999998,
                "yshift": 15,
                "z": 17.92
               },
               {
                "showarrow": false,
                "text": "26",
                "x": 18.85,
                "y": 25.87,
                "yshift": 15,
                "z": 17.38
               },
               {
                "showarrow": false,
                "text": "27",
                "x": 21.78,
                "y": 25.18,
                "yshift": 15,
                "z": 17.490000000000002
               },
               {
                "showarrow": false,
                "text": "28",
                "x": 22.599999999999998,
                "y": 24.729999999999997,
                "yshift": 15,
                "z": 15.96
               },
               {
                "showarrow": false,
                "text": "29",
                "x": 21.31,
                "y": 25.990000000000002,
                "yshift": 15,
                "z": 15.96
               },
               {
                "showarrow": false,
                "text": "30",
                "x": 19.45,
                "y": 23.42,
                "yshift": 15,
                "z": 14.64
               },
               {
                "showarrow": false,
                "text": "31",
                "x": 22.5,
                "y": 19.68,
                "yshift": 15,
                "z": 15.85
               },
               {
                "showarrow": false,
                "text": "32",
                "x": 23.439999999999998,
                "y": 17.6,
                "yshift": 15,
                "z": 16.84
               },
               {
                "showarrow": false,
                "text": "33",
                "x": 23.63,
                "y": 17.36,
                "yshift": 15,
                "z": 19.27
               },
               {
                "showarrow": false,
                "text": "34",
                "x": 23.35,
                "y": 21.230000000000004,
                "yshift": 15,
                "z": 21.9
               },
               {
                "showarrow": false,
                "text": "35",
                "x": 23.450000000000003,
                "y": 20.21,
                "yshift": 15,
                "z": 24.18
               },
               {
                "showarrow": false,
                "text": "36",
                "x": 23.159999999999997,
                "y": 17.56,
                "yshift": 15,
                "z": 25.36
               },
               {
                "showarrow": false,
                "text": "37",
                "x": 21.93,
                "y": 14.01,
                "yshift": 15,
                "z": 23.15
               },
               {
                "showarrow": false,
                "text": "38",
                "x": 23.15,
                "y": 14.059999999999999,
                "yshift": 15,
                "z": 21.93
               },
               {
                "showarrow": false,
                "text": "39",
                "x": 21.92,
                "y": 21.28,
                "yshift": 15,
                "z": 19.85
               },
               {
                "showarrow": false,
                "text": "40",
                "x": 16.37,
                "y": 23.330000000000002,
                "yshift": 15,
                "z": 17.84
               },
               {
                "showarrow": false,
                "text": "41",
                "x": 16.490000000000002,
                "y": 25.84,
                "yshift": 15,
                "z": 18.41
               }
              ]
             }
            ],
            "label": "Indices",
            "method": "relayout"
           },
           {
            "args": [
             {
              "scene.annotations": []
             }
            ],
            "label": "Hide All",
            "method": "relayout"
           }
          ],
          "direction": "right",
          "type": "buttons",
          "xanchor": "left",
          "yanchor": "top"
         }
        ]
       }
      },
      "text/html": [
       "<div>                            <div id=\"e3d38b4a-4d90-4148-97a1-1a9ff781bf38\" class=\"plotly-graph-div\" style=\"height:525px; width:100%;\"></div>            <script type=\"text/javascript\">                require([\"plotly\"], function(Plotly) {                    window.PLOTLYENV=window.PLOTLYENV || {};                                    if (document.getElementById(\"e3d38b4a-4d90-4148-97a1-1a9ff781bf38\")) {                    Plotly.newPlot(                        \"e3d38b4a-4d90-4148-97a1-1a9ff781bf38\",                        [{\"hoverinfo\": \"none\", \"marker\": {\"color\": [\"black\", \"black\", \"red\", \"black\", \"black\", \"black\", \"black\", \"black\", \"black\", \"black\", \"black\", \"black\", \"blue\", \"black\", \"black\", \"blue\", \"black\", \"blue\", \"blue\", \"black\", \"black\", \"black\", \"blue\", \"black\", \"black\", \"yellow\", \"white\", \"white\", \"white\", \"white\", \"white\", \"white\", \"white\", \"white\", \"white\", \"white\", \"white\", \"white\", \"white\", \"white\", \"white\"], \"line\": {\"color\": \"lightgray\", \"width\": 2}, \"opacity\": 0.8, \"size\": 7, \"symbol\": \"circle\"}, \"mode\": \"markers\", \"text\": [\"C\", \"C\", \"O\", \"C\", \"C\", \"C\", \"C\", \"C\", \"C\", \"C\", \"C\", \"C\", \"N\", \"C\", \"C\", \"N\", \"C\", \"N\", \"N\", \"C\", \"C\", \"C\", \"N\", \"C\", \"C\", \"S\", \"H\", \"H\", \"H\", \"H\", \"H\", \"H\", \"H\", \"H\", \"H\", \"H\", \"H\", \"H\", \"H\", \"H\", \"H\"], \"type\": \"scatter3d\", \"uid\": \"62b8b2e0-6220-4064-a474-80a0cb69979b\", \"x\": [21.64, 20.590000000000003, 20.339999999999996, 21.150000000000002, 21.61, 22.15, 22.58, 23.1, 23.21, 22.79, 22.919999999999998, 23.189999999999998, 23.26, 23.04, 23.01, 22.770000000000003, 22.59, 22.330000000000002, 22.59, 22.839999999999996, 22.25, 19.29, 18.33, 17.24, 17.28, 18.85, 21.78, 22.599999999999998, 21.31, 19.45, 22.5, 23.439999999999998, 23.63, 23.35, 23.450000000000003, 23.159999999999997, 21.93, 23.15, 21.92, 16.37, 16.490000000000002], \"y\": [25.04, 23.96, 23.84, 22.73, 21.77, 20.590000000000003, 19.57, 18.42, 18.29, 19.3, 19.13, 20.169999999999998, 19.66, 18.31, 17.35, 16.080000000000002, 15.8, 14.48, 16.66, 17.95, 20.459999999999997, 24.310000000000002, 23.490000000000002, 23.96, 25.259999999999998, 25.87, 25.18, 24.729999999999997, 25.990000000000002, 23.42, 19.68, 17.6, 17.36, 21.230000000000004, 20.21, 17.56, 14.01, 14.059999999999999, 21.28, 23.330000000000002, 25.84], \"z\": [16.41, 16.17, 14.770000000000001, 16.72, 17.22, 17.8, 16.939999999999998, 17.5, 18.88, 19.759999999999998, 21.200000000000003, 22.07, 23.35, 23.32, 24.310000000000002, 23.95, 22.650000000000002, 22.34, 21.64, 22.0, 19.2, 16.830000000000002, 17.03, 17.62, 17.92, 17.38, 17.490000000000002, 15.96, 15.96, 14.64, 15.85, 16.84, 19.27, 21.9, 24.18, 25.36, 23.15, 21.93, 19.85, 17.84, 18.41]}, {\"hoverinfo\": \"none\", \"marker\": {\"color\": \"grey\", \"opacity\": 1, \"size\": 7}, \"mode\": \"lines\", \"type\": \"scatter3d\", \"uid\": \"3d09358a-acfd-4088-b9d2-3b68b2333c90\", \"x\": [21.64, 20.590000000000003, null, 21.64, 21.78, null, 21.64, 22.599999999999998, null, 21.64, 21.31, null, 20.590000000000003, 21.64, null, 20.590000000000003, 20.339999999999996, null, 20.590000000000003, 21.150000000000002, null, 20.590000000000003, 19.29, null, 21.78, 21.64, null, 22.599999999999998, 21.64, null, 21.31, 21.64, null, 20.339999999999996, 20.590000000000003, null, 20.339999999999996, 19.45, null, 21.150000000000002, 20.590000000000003, null, 21.150000000000002, 21.61, null, 19.29, 20.590000000000003, null, 19.29, 18.33, null, 19.29, 18.85, null, 19.45, 20.339999999999996, null, 21.61, 21.150000000000002, null, 21.61, 22.15, null, 22.15, 21.61, null, 22.15, 22.25, null, 22.15, 22.58, null, 22.58, 22.15, null, 22.58, 22.5, null, 22.58, 23.1, null, 22.25, 22.79, null, 22.25, 22.15, null, 22.25, 21.92, null, 23.1, 23.21, null, 23.1, 22.58, null, 23.1, 23.439999999999998, null, 22.5, 22.58, null, 23.21, 23.63, null, 23.21, 22.79, null, 23.21, 23.1, null, 23.439999999999998, 23.1, null, 22.79, 23.21, null, 22.79, 22.919999999999998, null, 22.79, 22.25, null, 23.63, 23.21, null, 22.919999999999998, 22.839999999999996, null, 22.919999999999998, 22.79, null, 22.919999999999998, 23.189999999999998, null, 23.189999999999998, 23.35, null, 23.189999999999998, 22.919999999999998, null, 23.189999999999998, 23.26, null, 22.839999999999996, 22.919999999999998, null, 22.839999999999996, 22.59, null, 22.839999999999996, 23.04, null, 23.26, 23.450000000000003, null, 23.26, 23.189999999999998, null, 23.26, 23.04, null, 23.35, 23.189999999999998, null, 23.04, 22.839999999999996, null, 23.04, 23.26, null, 23.04, 23.01, null, 23.450000000000003, 23.26, null, 23.01, 23.159999999999997, null, 23.01, 23.04, null, 23.01, 22.770000000000003, null, 22.770000000000003, 22.59, null, 22.770000000000003, 23.01, null, 23.159999999999997, 23.01, null, 22.59, 22.330000000000002, null, 22.59, 22.59, null, 22.59, 22.770000000000003, null, 22.330000000000002, 22.59, null, 22.330000000000002, 21.93, null, 22.330000000000002, 23.15, null, 22.59, 22.59, null, 22.59, 22.839999999999996, null, 21.93, 22.330000000000002, null, 23.15, 22.330000000000002, null, 21.92, 22.25, null, 18.33, 19.29, null, 18.33, 17.24, null, 18.85, 17.28, null, 18.85, 19.29, null, 17.24, 17.28, null, 17.24, 18.33, null, 17.24, 16.37, null, 17.28, 16.490000000000002, null, 17.28, 18.85, null, 17.28, 17.24, null, 16.37, 17.24, null, 16.490000000000002, 17.28, null], \"y\": [25.04, 23.96, null, 25.04, 25.18, null, 25.04, 24.729999999999997, null, 25.04, 25.990000000000002, null, 23.96, 25.04, null, 23.96, 23.84, null, 23.96, 22.73, null, 23.96, 24.310000000000002, null, 25.18, 25.04, null, 24.729999999999997, 25.04, null, 25.990000000000002, 25.04, null, 23.84, 23.96, null, 23.84, 23.42, null, 22.73, 23.96, null, 22.73, 21.77, null, 24.310000000000002, 23.96, null, 24.310000000000002, 23.490000000000002, null, 24.310000000000002, 25.87, null, 23.42, 23.84, null, 21.77, 22.73, null, 21.77, 20.590000000000003, null, 20.590000000000003, 21.77, null, 20.590000000000003, 20.459999999999997, null, 20.590000000000003, 19.57, null, 19.57, 20.590000000000003, null, 19.57, 19.68, null, 19.57, 18.42, null, 20.459999999999997, 19.3, null, 20.459999999999997, 20.590000000000003, null, 20.459999999999997, 21.28, null, 18.42, 18.29, null, 18.42, 19.57, null, 18.42, 17.6, null, 19.68, 19.57, null, 18.29, 17.36, null, 18.29, 19.3, null, 18.29, 18.42, null, 17.6, 18.42, null, 19.3, 18.29, null, 19.3, 19.13, null, 19.3, 20.459999999999997, null, 17.36, 18.29, null, 19.13, 17.95, null, 19.13, 19.3, null, 19.13, 20.169999999999998, null, 20.169999999999998, 21.230000000000004, null, 20.169999999999998, 19.13, null, 20.169999999999998, 19.66, null, 17.95, 19.13, null, 17.95, 16.66, null, 17.95, 18.31, null, 19.66, 20.21, null, 19.66, 20.169999999999998, null, 19.66, 18.31, null, 21.230000000000004, 20.169999999999998, null, 18.31, 17.95, null, 18.31, 19.66, null, 18.31, 17.35, null, 20.21, 19.66, null, 17.35, 17.56, null, 17.35, 18.31, null, 17.35, 16.080000000000002, null, 16.080000000000002, 15.8, null, 16.080000000000002, 17.35, null, 17.56, 17.35, null, 15.8, 14.48, null, 15.8, 16.66, null, 15.8, 16.080000000000002, null, 14.48, 15.8, null, 14.48, 14.01, null, 14.48, 14.059999999999999, null, 16.66, 15.8, null, 16.66, 17.95, null, 14.01, 14.48, null, 14.059999999999999, 14.48, null, 21.28, 20.459999999999997, null, 23.490000000000002, 24.310000000000002, null, 23.490000000000002, 23.96, null, 25.87, 25.259999999999998, null, 25.87, 24.310000000000002, null, 23.96, 25.259999999999998, null, 23.96, 23.490000000000002, null, 23.96, 23.330000000000002, null, 25.259999999999998, 25.84, null, 25.259999999999998, 25.87, null, 25.259999999999998, 23.96, null, 23.330000000000002, 23.96, null, 25.84, 25.259999999999998, null], \"z\": [16.41, 16.17, null, 16.41, 17.490000000000002, null, 16.41, 15.96, null, 16.41, 15.96, null, 16.17, 16.41, null, 16.17, 14.770000000000001, null, 16.17, 16.72, null, 16.17, 16.830000000000002, null, 17.490000000000002, 16.41, null, 15.96, 16.41, null, 15.96, 16.41, null, 14.770000000000001, 16.17, null, 14.770000000000001, 14.64, null, 16.72, 16.17, null, 16.72, 17.22, null, 16.830000000000002, 16.17, null, 16.830000000000002, 17.03, null, 16.830000000000002, 17.38, null, 14.64, 14.770000000000001, null, 17.22, 16.72, null, 17.22, 17.8, null, 17.8, 17.22, null, 17.8, 19.2, null, 17.8, 16.939999999999998, null, 16.939999999999998, 17.8, null, 16.939999999999998, 15.85, null, 16.939999999999998, 17.5, null, 19.2, 19.759999999999998, null, 19.2, 17.8, null, 19.2, 19.85, null, 17.5, 18.88, null, 17.5, 16.939999999999998, null, 17.5, 16.84, null, 15.85, 16.939999999999998, null, 18.88, 19.27, null, 18.88, 19.759999999999998, null, 18.88, 17.5, null, 16.84, 17.5, null, 19.759999999999998, 18.88, null, 19.759999999999998, 21.200000000000003, null, 19.759999999999998, 19.2, null, 19.27, 18.88, null, 21.200000000000003, 22.0, null, 21.200000000000003, 19.759999999999998, null, 21.200000000000003, 22.07, null, 22.07, 21.9, null, 22.07, 21.200000000000003, null, 22.07, 23.35, null, 22.0, 21.200000000000003, null, 22.0, 21.64, null, 22.0, 23.32, null, 23.35, 24.18, null, 23.35, 22.07, null, 23.35, 23.32, null, 21.9, 22.07, null, 23.32, 22.0, null, 23.32, 23.35, null, 23.32, 24.310000000000002, null, 24.18, 23.35, null, 24.310000000000002, 25.36, null, 24.310000000000002, 23.32, null, 24.310000000000002, 23.95, null, 23.95, 22.650000000000002, null, 23.95, 24.310000000000002, null, 25.36, 24.310000000000002, null, 22.650000000000002, 22.34, null, 22.650000000000002, 21.64, null, 22.650000000000002, 23.95, null, 22.34, 22.650000000000002, null, 22.34, 23.15, null, 22.34, 21.93, null, 21.64, 22.650000000000002, null, 21.64, 22.0, null, 23.15, 22.34, null, 21.93, 22.34, null, 19.85, 19.2, null, 17.03, 16.830000000000002, null, 17.03, 17.62, null, 17.38, 17.92, null, 17.38, 16.830000000000002, null, 17.62, 17.92, null, 17.62, 17.03, null, 17.62, 17.84, null, 17.92, 18.41, null, 17.92, 17.38, null, 17.92, 17.62, null, 17.84, 17.62, null, 18.41, 17.92, null]}, {\"hoverinfo\": \"none\", \"marker\": {\"color\": \"darkorange\", \"opacity\": 0.2, \"size\": 3}, \"mode\": \"lines\", \"type\": \"scatter3d\", \"uid\": \"76300862-01e3-4acf-aa52-a32ec63a2c58\", \"x\": [], \"y\": [], \"z\": []}],                        {\"autosize\": false, \"hovermode\": \"closest\", \"margin\": {\"b\": 0, \"l\": 0, \"r\": 0, \"t\": 0}, \"scene\": {\"xaxis\": {\"showbackground\": false, \"showgrid\": false, \"showspikes\": false, \"showticklabels\": false, \"title\": {\"font\": {\"color\": \"white\"}}, \"zeroline\": false}, \"yaxis\": {\"showbackground\": false, \"showgrid\": false, \"showspikes\": false, \"showticklabels\": false, \"title\": {\"font\": {\"color\": \"white\"}}, \"zeroline\": false}, \"zaxis\": {\"showbackground\": false, \"showgrid\": false, \"showspikes\": false, \"showticklabels\": false, \"title\": {\"font\": {\"color\": \"white\"}}, \"zeroline\": false}}, \"showlegend\": false, \"template\": {\"data\": {\"bar\": [{\"error_x\": {\"color\": \"#2a3f5f\"}, \"error_y\": {\"color\": \"#2a3f5f\"}, \"marker\": {\"line\": {\"color\": \"#E5ECF6\", \"width\": 0.5}}, \"type\": \"bar\"}], \"barpolar\": [{\"marker\": {\"line\": {\"color\": \"#E5ECF6\", \"width\": 0.5}}, \"type\": \"barpolar\"}], \"carpet\": [{\"aaxis\": {\"endlinecolor\": \"#2a3f5f\", \"gridcolor\": \"white\", \"linecolor\": \"white\", \"minorgridcolor\": \"white\", \"startlinecolor\": \"#2a3f5f\"}, \"baxis\": {\"endlinecolor\": \"#2a3f5f\", \"gridcolor\": \"white\", \"linecolor\": \"white\", \"minorgridcolor\": \"white\", \"startlinecolor\": \"#2a3f5f\"}, \"type\": \"carpet\"}], \"choropleth\": [{\"colorbar\": {\"outlinewidth\": 0, \"ticks\": \"\"}, \"type\": \"choropleth\"}], \"contour\": [{\"colorbar\": {\"outlinewidth\": 0, \"ticks\": \"\"}, \"colorscale\": [[0.0, \"#0d0887\"], [0.1111111111111111, \"#46039f\"], [0.2222222222222222, \"#7201a8\"], [0.3333333333333333, \"#9c179e\"], [0.4444444444444444, \"#bd3786\"], [0.5555555555555556, \"#d8576b\"], [0.6666666666666666, \"#ed7953\"], [0.7777777777777778, \"#fb9f3a\"], [0.8888888888888888, \"#fdca26\"], [1.0, \"#f0f921\"]], \"type\": \"contour\"}], \"contourcarpet\": [{\"colorbar\": {\"outlinewidth\": 0, \"ticks\": \"\"}, \"type\": \"contourcarpet\"}], \"heatmap\": [{\"colorbar\": {\"outlinewidth\": 0, \"ticks\": \"\"}, \"colorscale\": [[0.0, \"#0d0887\"], [0.1111111111111111, \"#46039f\"], [0.2222222222222222, \"#7201a8\"], [0.3333333333333333, \"#9c179e\"], [0.4444444444444444, \"#bd3786\"], [0.5555555555555556, \"#d8576b\"], [0.6666666666666666, \"#ed7953\"], [0.7777777777777778, \"#fb9f3a\"], [0.8888888888888888, \"#fdca26\"], [1.0, \"#f0f921\"]], \"type\": \"heatmap\"}], \"heatmapgl\": [{\"colorbar\": {\"outlinewidth\": 0, \"ticks\": \"\"}, \"colorscale\": [[0.0, \"#0d0887\"], [0.1111111111111111, \"#46039f\"], [0.2222222222222222, \"#7201a8\"], [0.3333333333333333, \"#9c179e\"], [0.4444444444444444, \"#bd3786\"], [0.5555555555555556, \"#d8576b\"], [0.6666666666666666, \"#ed7953\"], [0.7777777777777778, \"#fb9f3a\"], [0.8888888888888888, \"#fdca26\"], [1.0, \"#f0f921\"]], \"type\": \"heatmapgl\"}], \"histogram\": [{\"marker\": {\"colorbar\": {\"outlinewidth\": 0, \"ticks\": \"\"}}, \"type\": \"histogram\"}], \"histogram2d\": [{\"colorbar\": {\"outlinewidth\": 0, \"ticks\": \"\"}, \"colorscale\": [[0.0, \"#0d0887\"], [0.1111111111111111, \"#46039f\"], [0.2222222222222222, \"#7201a8\"], [0.3333333333333333, \"#9c179e\"], [0.4444444444444444, \"#bd3786\"], [0.5555555555555556, \"#d8576b\"], [0.6666666666666666, \"#ed7953\"], [0.7777777777777778, \"#fb9f3a\"], [0.8888888888888888, \"#fdca26\"], [1.0, \"#f0f921\"]], \"type\": \"histogram2d\"}], \"histogram2dcontour\": [{\"colorbar\": {\"outlinewidth\": 0, \"ticks\": \"\"}, \"colorscale\": [[0.0, \"#0d0887\"], [0.1111111111111111, \"#46039f\"], [0.2222222222222222, \"#7201a8\"], [0.3333333333333333, \"#9c179e\"], [0.4444444444444444, \"#bd3786\"], [0.5555555555555556, \"#d8576b\"], [0.6666666666666666, \"#ed7953\"], [0.7777777777777778, \"#fb9f3a\"], [0.8888888888888888, \"#fdca26\"], [1.0, \"#f0f921\"]], \"type\": \"histogram2dcontour\"}], \"mesh3d\": [{\"colorbar\": {\"outlinewidth\": 0, \"ticks\": \"\"}, \"type\": \"mesh3d\"}], \"parcoords\": [{\"line\": {\"colorbar\": {\"outlinewidth\": 0, \"ticks\": \"\"}}, \"type\": \"parcoords\"}], \"pie\": [{\"automargin\": true, \"type\": \"pie\"}], \"scatter\": [{\"marker\": {\"colorbar\": {\"outlinewidth\": 0, \"ticks\": \"\"}}, \"type\": \"scatter\"}], \"scatter3d\": [{\"line\": {\"colorbar\": {\"outlinewidth\": 0, \"ticks\": \"\"}}, \"marker\": {\"colorbar\": {\"outlinewidth\": 0, \"ticks\": \"\"}}, \"type\": \"scatter3d\"}], \"scattercarpet\": [{\"marker\": {\"colorbar\": {\"outlinewidth\": 0, \"ticks\": \"\"}}, \"type\": \"scattercarpet\"}], \"scattergeo\": [{\"marker\": {\"colorbar\": {\"outlinewidth\": 0, \"ticks\": \"\"}}, \"type\": \"scattergeo\"}], \"scattergl\": [{\"marker\": {\"colorbar\": {\"outlinewidth\": 0, \"ticks\": \"\"}}, \"type\": \"scattergl\"}], \"scattermapbox\": [{\"marker\": {\"colorbar\": {\"outlinewidth\": 0, \"ticks\": \"\"}}, \"type\": \"scattermapbox\"}], \"scatterpolar\": [{\"marker\": {\"colorbar\": {\"outlinewidth\": 0, \"ticks\": \"\"}}, \"type\": \"scatterpolar\"}], \"scatterpolargl\": [{\"marker\": {\"colorbar\": {\"outlinewidth\": 0, \"ticks\": \"\"}}, \"type\": \"scatterpolargl\"}], \"scatterternary\": [{\"marker\": {\"colorbar\": {\"outlinewidth\": 0, \"ticks\": \"\"}}, \"type\": \"scatterternary\"}], \"surface\": [{\"colorbar\": {\"outlinewidth\": 0, \"ticks\": \"\"}, \"colorscale\": [[0.0, \"#0d0887\"], [0.1111111111111111, \"#46039f\"], [0.2222222222222222, \"#7201a8\"], [0.3333333333333333, \"#9c179e\"], [0.4444444444444444, \"#bd3786\"], [0.5555555555555556, \"#d8576b\"], [0.6666666666666666, \"#ed7953\"], [0.7777777777777778, \"#fb9f3a\"], [0.8888888888888888, \"#fdca26\"], [1.0, \"#f0f921\"]], \"type\": \"surface\"}], \"table\": [{\"cells\": {\"fill\": {\"color\": \"#EBF0F8\"}, \"line\": {\"color\": \"white\"}}, \"header\": {\"fill\": {\"color\": \"#C8D4E3\"}, \"line\": {\"color\": \"white\"}}, \"type\": \"table\"}]}, \"layout\": {\"annotationdefaults\": {\"arrowcolor\": \"#2a3f5f\", \"arrowhead\": 0, \"arrowwidth\": 1}, \"autotypenumbers\": \"strict\", \"coloraxis\": {\"colorbar\": {\"outlinewidth\": 0, \"ticks\": \"\"}}, \"colorscale\": {\"diverging\": [[0, \"#8e0152\"], [0.1, \"#c51b7d\"], [0.2, \"#de77ae\"], [0.3, \"#f1b6da\"], [0.4, \"#fde0ef\"], [0.5, \"#f7f7f7\"], [0.6, \"#e6f5d0\"], [0.7, \"#b8e186\"], [0.8, \"#7fbc41\"], [0.9, \"#4d9221\"], [1, \"#276419\"]], \"sequential\": [[0.0, \"#0d0887\"], [0.1111111111111111, \"#46039f\"], [0.2222222222222222, \"#7201a8\"], [0.3333333333333333, \"#9c179e\"], [0.4444444444444444, \"#bd3786\"], [0.5555555555555556, \"#d8576b\"], [0.6666666666666666, \"#ed7953\"], [0.7777777777777778, \"#fb9f3a\"], [0.8888888888888888, \"#fdca26\"], [1.0, \"#f0f921\"]], \"sequentialminus\": [[0.0, \"#0d0887\"], [0.1111111111111111, \"#46039f\"], [0.2222222222222222, \"#7201a8\"], [0.3333333333333333, \"#9c179e\"], [0.4444444444444444, \"#bd3786\"], [0.5555555555555556, \"#d8576b\"], [0.6666666666666666, \"#ed7953\"], [0.7777777777777778, \"#fb9f3a\"], [0.8888888888888888, \"#fdca26\"], [1.0, \"#f0f921\"]]}, \"colorway\": [\"#636efa\", \"#EF553B\", \"#00cc96\", \"#ab63fa\", \"#FFA15A\", \"#19d3f3\", \"#FF6692\", \"#B6E880\", \"#FF97FF\", \"#FECB52\"], \"font\": {\"color\": \"#2a3f5f\"}, \"geo\": {\"bgcolor\": \"white\", \"lakecolor\": \"white\", \"landcolor\": \"#E5ECF6\", \"showlakes\": true, \"showland\": true, \"subunitcolor\": \"white\"}, \"hoverlabel\": {\"align\": \"left\"}, \"hovermode\": \"closest\", \"mapbox\": {\"style\": \"light\"}, \"paper_bgcolor\": \"white\", \"plot_bgcolor\": \"#E5ECF6\", \"polar\": {\"angularaxis\": {\"gridcolor\": \"white\", \"linecolor\": \"white\", \"ticks\": \"\"}, \"bgcolor\": \"#E5ECF6\", \"radialaxis\": {\"gridcolor\": \"white\", \"linecolor\": \"white\", \"ticks\": \"\"}}, \"scene\": {\"xaxis\": {\"backgroundcolor\": \"#E5ECF6\", \"gridcolor\": \"white\", \"gridwidth\": 2, \"linecolor\": \"white\", \"showbackground\": true, \"ticks\": \"\", \"zerolinecolor\": \"white\"}, \"yaxis\": {\"backgroundcolor\": \"#E5ECF6\", \"gridcolor\": \"white\", \"gridwidth\": 2, \"linecolor\": \"white\", \"showbackground\": true, \"ticks\": \"\", \"zerolinecolor\": \"white\"}, \"zaxis\": {\"backgroundcolor\": \"#E5ECF6\", \"gridcolor\": \"white\", \"gridwidth\": 2, \"linecolor\": \"white\", \"showbackground\": true, \"ticks\": \"\", \"zerolinecolor\": \"white\"}}, \"shapedefaults\": {\"line\": {\"color\": \"#2a3f5f\"}}, \"ternary\": {\"aaxis\": {\"gridcolor\": \"white\", \"linecolor\": \"white\", \"ticks\": \"\"}, \"baxis\": {\"gridcolor\": \"white\", \"linecolor\": \"white\", \"ticks\": \"\"}, \"bgcolor\": \"#E5ECF6\", \"caxis\": {\"gridcolor\": \"white\", \"linecolor\": \"white\", \"ticks\": \"\"}}, \"title\": {\"x\": 0.05}, \"xaxis\": {\"automargin\": true, \"gridcolor\": \"white\", \"linecolor\": \"white\", \"ticks\": \"\", \"title\": {\"standoff\": 15}, \"zerolinecolor\": \"white\", \"zerolinewidth\": 2}, \"yaxis\": {\"automargin\": true, \"gridcolor\": \"white\", \"linecolor\": \"white\", \"ticks\": \"\", \"title\": {\"standoff\": 15}, \"zerolinecolor\": \"white\", \"zerolinewidth\": 2}}}, \"updatemenus\": [{\"buttons\": [{\"args\": [{\"scene.annotations\": [{\"showarrow\": false, \"text\": \"C\", \"x\": 21.64, \"y\": 25.04, \"yshift\": 15, \"z\": 16.41}, {\"showarrow\": false, \"text\": \"C\", \"x\": 20.590000000000003, \"y\": 23.96, \"yshift\": 15, \"z\": 16.17}, {\"showarrow\": false, \"text\": \"O\", \"x\": 20.339999999999996, \"y\": 23.84, \"yshift\": 15, \"z\": 14.770000000000001}, {\"showarrow\": false, \"text\": \"C\", \"x\": 21.150000000000002, \"y\": 22.73, \"yshift\": 15, \"z\": 16.72}, {\"showarrow\": false, \"text\": \"C\", \"x\": 21.61, \"y\": 21.77, \"yshift\": 15, \"z\": 17.22}, {\"showarrow\": false, \"text\": \"C\", \"x\": 22.15, \"y\": 20.590000000000003, \"yshift\": 15, \"z\": 17.8}, {\"showarrow\": false, \"text\": \"C\", \"x\": 22.58, \"y\": 19.57, \"yshift\": 15, \"z\": 16.939999999999998}, {\"showarrow\": false, \"text\": \"C\", \"x\": 23.1, \"y\": 18.42, \"yshift\": 15, \"z\": 17.5}, {\"showarrow\": false, \"text\": \"C\", \"x\": 23.21, \"y\": 18.29, \"yshift\": 15, \"z\": 18.88}, {\"showarrow\": false, \"text\": \"C\", \"x\": 22.79, \"y\": 19.3, \"yshift\": 15, \"z\": 19.759999999999998}, {\"showarrow\": false, \"text\": \"C\", \"x\": 22.919999999999998, \"y\": 19.13, \"yshift\": 15, \"z\": 21.200000000000003}, {\"showarrow\": false, \"text\": \"C\", \"x\": 23.189999999999998, \"y\": 20.169999999999998, \"yshift\": 15, \"z\": 22.07}, {\"showarrow\": false, \"text\": \"N\", \"x\": 23.26, \"y\": 19.66, \"yshift\": 15, \"z\": 23.35}, {\"showarrow\": false, \"text\": \"C\", \"x\": 23.04, \"y\": 18.31, \"yshift\": 15, \"z\": 23.32}, {\"showarrow\": false, \"text\": \"C\", \"x\": 23.01, \"y\": 17.35, \"yshift\": 15, \"z\": 24.310000000000002}, {\"showarrow\": false, \"text\": \"N\", \"x\": 22.770000000000003, \"y\": 16.080000000000002, \"yshift\": 15, \"z\": 23.95}, {\"showarrow\": false, \"text\": \"C\", \"x\": 22.59, \"y\": 15.8, \"yshift\": 15, \"z\": 22.650000000000002}, {\"showarrow\": false, \"text\": \"N\", \"x\": 22.330000000000002, \"y\": 14.48, \"yshift\": 15, \"z\": 22.34}, {\"showarrow\": false, \"text\": \"N\", \"x\": 22.59, \"y\": 16.66, \"yshift\": 15, \"z\": 21.64}, {\"showarrow\": false, \"text\": \"C\", \"x\": 22.839999999999996, \"y\": 17.95, \"yshift\": 15, \"z\": 22.0}, {\"showarrow\": false, \"text\": \"C\", \"x\": 22.25, \"y\": 20.459999999999997, \"yshift\": 15, \"z\": 19.2}, {\"showarrow\": false, \"text\": \"C\", \"x\": 19.29, \"y\": 24.310000000000002, \"yshift\": 15, \"z\": 16.830000000000002}, {\"showarrow\": false, \"text\": \"N\", \"x\": 18.33, \"y\": 23.490000000000002, \"yshift\": 15, \"z\": 17.03}, {\"showarrow\": false, \"text\": \"C\", \"x\": 17.24, \"y\": 23.96, \"yshift\": 15, \"z\": 17.62}, {\"showarrow\": false, \"text\": \"C\", \"x\": 17.28, \"y\": 25.259999999999998, \"yshift\": 15, \"z\": 17.92}, {\"showarrow\": false, \"text\": \"S\", \"x\": 18.85, \"y\": 25.87, \"yshift\": 15, \"z\": 17.38}, {\"showarrow\": false, \"text\": \"H\", \"x\": 21.78, \"y\": 25.18, \"yshift\": 15, \"z\": 17.490000000000002}, {\"showarrow\": false, \"text\": \"H\", \"x\": 22.599999999999998, \"y\": 24.729999999999997, \"yshift\": 15, \"z\": 15.96}, {\"showarrow\": false, \"text\": \"H\", \"x\": 21.31, \"y\": 25.990000000000002, \"yshift\": 15, \"z\": 15.96}, {\"showarrow\": false, \"text\": \"H\", \"x\": 19.45, \"y\": 23.42, \"yshift\": 15, \"z\": 14.64}, {\"showarrow\": false, \"text\": \"H\", \"x\": 22.5, \"y\": 19.68, \"yshift\": 15, \"z\": 15.85}, {\"showarrow\": false, \"text\": \"H\", \"x\": 23.439999999999998, \"y\": 17.6, \"yshift\": 15, \"z\": 16.84}, {\"showarrow\": false, \"text\": \"H\", \"x\": 23.63, \"y\": 17.36, \"yshift\": 15, \"z\": 19.27}, {\"showarrow\": false, \"text\": \"H\", \"x\": 23.35, \"y\": 21.230000000000004, \"yshift\": 15, \"z\": 21.9}, {\"showarrow\": false, \"text\": \"H\", \"x\": 23.450000000000003, \"y\": 20.21, \"yshift\": 15, \"z\": 24.18}, {\"showarrow\": false, \"text\": \"H\", \"x\": 23.159999999999997, \"y\": 17.56, \"yshift\": 15, \"z\": 25.36}, {\"showarrow\": false, \"text\": \"H\", \"x\": 21.93, \"y\": 14.01, \"yshift\": 15, \"z\": 23.15}, {\"showarrow\": false, \"text\": \"H\", \"x\": 23.15, \"y\": 14.059999999999999, \"yshift\": 15, \"z\": 21.93}, {\"showarrow\": false, \"text\": \"H\", \"x\": 21.92, \"y\": 21.28, \"yshift\": 15, \"z\": 19.85}, {\"showarrow\": false, \"text\": \"H\", \"x\": 16.37, \"y\": 23.330000000000002, \"yshift\": 15, \"z\": 17.84}, {\"showarrow\": false, \"text\": \"H\", \"x\": 16.490000000000002, \"y\": 25.84, \"yshift\": 15, \"z\": 18.41}]}], \"label\": \"Initial state\", \"method\": \"relayout\"}, {\"args\": [{\"scene.annotations\": [{\"showarrow\": false, \"text\": \"C\", \"x\": 21.64, \"y\": 25.04, \"yshift\": 15, \"z\": 16.41}, {\"showarrow\": false, \"text\": \"C\", \"x\": 20.590000000000003, \"y\": 23.96, \"yshift\": 15, \"z\": 16.17}, {\"showarrow\": false, \"text\": \"O\", \"x\": 20.339999999999996, \"y\": 23.84, \"yshift\": 15, \"z\": 14.770000000000001}, {\"showarrow\": false, \"text\": \"C\", \"x\": 21.150000000000002, \"y\": 22.73, \"yshift\": 15, \"z\": 16.72}, {\"showarrow\": false, \"text\": \"C\", \"x\": 21.61, \"y\": 21.77, \"yshift\": 15, \"z\": 17.22}, {\"showarrow\": false, \"text\": \"C\", \"x\": 22.15, \"y\": 20.590000000000003, \"yshift\": 15, \"z\": 17.8}, {\"showarrow\": false, \"text\": \"C\", \"x\": 22.58, \"y\": 19.57, \"yshift\": 15, \"z\": 16.939999999999998}, {\"showarrow\": false, \"text\": \"C\", \"x\": 23.1, \"y\": 18.42, \"yshift\": 15, \"z\": 17.5}, {\"showarrow\": false, \"text\": \"C\", \"x\": 23.21, \"y\": 18.29, \"yshift\": 15, \"z\": 18.88}, {\"showarrow\": false, \"text\": \"C\", \"x\": 22.79, \"y\": 19.3, \"yshift\": 15, \"z\": 19.759999999999998}, {\"showarrow\": false, \"text\": \"C\", \"x\": 22.919999999999998, \"y\": 19.13, \"yshift\": 15, \"z\": 21.200000000000003}, {\"showarrow\": false, \"text\": \"C\", \"x\": 23.189999999999998, \"y\": 20.169999999999998, \"yshift\": 15, \"z\": 22.07}, {\"showarrow\": false, \"text\": \"N\", \"x\": 23.26, \"y\": 19.66, \"yshift\": 15, \"z\": 23.35}, {\"showarrow\": false, \"text\": \"C\", \"x\": 23.04, \"y\": 18.31, \"yshift\": 15, \"z\": 23.32}, {\"showarrow\": false, \"text\": \"C\", \"x\": 23.01, \"y\": 17.35, \"yshift\": 15, \"z\": 24.310000000000002}, {\"showarrow\": false, \"text\": \"N\", \"x\": 22.770000000000003, \"y\": 16.080000000000002, \"yshift\": 15, \"z\": 23.95}, {\"showarrow\": false, \"text\": \"C\", \"x\": 22.59, \"y\": 15.8, \"yshift\": 15, \"z\": 22.650000000000002}, {\"showarrow\": false, \"text\": \"N\", \"x\": 22.330000000000002, \"y\": 14.48, \"yshift\": 15, \"z\": 22.34}, {\"showarrow\": false, \"text\": \"N\", \"x\": 22.59, \"y\": 16.66, \"yshift\": 15, \"z\": 21.64}, {\"showarrow\": false, \"text\": \"C\", \"x\": 22.839999999999996, \"y\": 17.95, \"yshift\": 15, \"z\": 22.0}, {\"showarrow\": false, \"text\": \"C\", \"x\": 22.25, \"y\": 20.459999999999997, \"yshift\": 15, \"z\": 19.2}, {\"showarrow\": false, \"text\": \"C\", \"x\": 19.29, \"y\": 24.310000000000002, \"yshift\": 15, \"z\": 16.830000000000002}, {\"showarrow\": false, \"text\": \"N\", \"x\": 18.33, \"y\": 23.490000000000002, \"yshift\": 15, \"z\": 17.03}, {\"showarrow\": false, \"text\": \"C\", \"x\": 17.24, \"y\": 23.96, \"yshift\": 15, \"z\": 17.62}, {\"showarrow\": false, \"text\": \"C\", \"x\": 17.28, \"y\": 25.259999999999998, \"yshift\": 15, \"z\": 17.92}, {\"showarrow\": false, \"text\": \"S\", \"x\": 18.85, \"y\": 25.87, \"yshift\": 15, \"z\": 17.38}, {\"showarrow\": false, \"text\": \"H\", \"x\": 21.78, \"y\": 25.18, \"yshift\": 15, \"z\": 17.490000000000002}, {\"showarrow\": false, \"text\": \"H\", \"x\": 22.599999999999998, \"y\": 24.729999999999997, \"yshift\": 15, \"z\": 15.96}, {\"showarrow\": false, \"text\": \"H\", \"x\": 21.31, \"y\": 25.990000000000002, \"yshift\": 15, \"z\": 15.96}, {\"showarrow\": false, \"text\": \"H\", \"x\": 19.45, \"y\": 23.42, \"yshift\": 15, \"z\": 14.64}, {\"showarrow\": false, \"text\": \"H\", \"x\": 22.5, \"y\": 19.68, \"yshift\": 15, \"z\": 15.85}, {\"showarrow\": false, \"text\": \"F\", \"x\": 23.439999999999998, \"y\": 17.6, \"yshift\": 15, \"z\": 16.84}, {\"showarrow\": false, \"text\": \"H\", \"x\": 23.63, \"y\": 17.36, \"yshift\": 15, \"z\": 19.27}, {\"showarrow\": false, \"text\": \"H\", \"x\": 23.35, \"y\": 21.230000000000004, \"yshift\": 15, \"z\": 21.9}, {\"showarrow\": false, \"text\": \"H\", \"x\": 23.450000000000003, \"y\": 20.21, \"yshift\": 15, \"z\": 24.18}, {\"showarrow\": false, \"text\": \"H\", \"x\": 23.159999999999997, \"y\": 17.56, \"yshift\": 15, \"z\": 25.36}, {\"showarrow\": false, \"text\": \"H\", \"x\": 21.93, \"y\": 14.01, \"yshift\": 15, \"z\": 23.15}, {\"showarrow\": false, \"text\": \"H\", \"x\": 23.15, \"y\": 14.059999999999999, \"yshift\": 15, \"z\": 21.93}, {\"showarrow\": false, \"text\": \"H\", \"x\": 21.92, \"y\": 21.28, \"yshift\": 15, \"z\": 19.85}, {\"showarrow\": false, \"text\": \"H\", \"x\": 16.37, \"y\": 23.330000000000002, \"yshift\": 15, \"z\": 17.84}, {\"showarrow\": false, \"text\": \"H\", \"x\": 16.490000000000002, \"y\": 25.84, \"yshift\": 15, \"z\": 18.41}]}], \"label\": \"End state\", \"method\": \"relayout\"}, {\"args\": [{\"scene.annotations\": [{\"showarrow\": false, \"text\": \"1\", \"x\": 21.64, \"y\": 25.04, \"yshift\": 15, \"z\": 16.41}, {\"showarrow\": false, \"text\": \"2\", \"x\": 20.590000000000003, \"y\": 23.96, \"yshift\": 15, \"z\": 16.17}, {\"showarrow\": false, \"text\": \"3\", \"x\": 20.339999999999996, \"y\": 23.84, \"yshift\": 15, \"z\": 14.770000000000001}, {\"showarrow\": false, \"text\": \"4\", \"x\": 21.150000000000002, \"y\": 22.73, \"yshift\": 15, \"z\": 16.72}, {\"showarrow\": false, \"text\": \"5\", \"x\": 21.61, \"y\": 21.77, \"yshift\": 15, \"z\": 17.22}, {\"showarrow\": false, \"text\": \"6\", \"x\": 22.15, \"y\": 20.590000000000003, \"yshift\": 15, \"z\": 17.8}, {\"showarrow\": false, \"text\": \"7\", \"x\": 22.58, \"y\": 19.57, \"yshift\": 15, \"z\": 16.939999999999998}, {\"showarrow\": false, \"text\": \"8\", \"x\": 23.1, \"y\": 18.42, \"yshift\": 15, \"z\": 17.5}, {\"showarrow\": false, \"text\": \"9\", \"x\": 23.21, \"y\": 18.29, \"yshift\": 15, \"z\": 18.88}, {\"showarrow\": false, \"text\": \"10\", \"x\": 22.79, \"y\": 19.3, \"yshift\": 15, \"z\": 19.759999999999998}, {\"showarrow\": false, \"text\": \"11\", \"x\": 22.919999999999998, \"y\": 19.13, \"yshift\": 15, \"z\": 21.200000000000003}, {\"showarrow\": false, \"text\": \"12\", \"x\": 23.189999999999998, \"y\": 20.169999999999998, \"yshift\": 15, \"z\": 22.07}, {\"showarrow\": false, \"text\": \"13\", \"x\": 23.26, \"y\": 19.66, \"yshift\": 15, \"z\": 23.35}, {\"showarrow\": false, \"text\": \"14\", \"x\": 23.04, \"y\": 18.31, \"yshift\": 15, \"z\": 23.32}, {\"showarrow\": false, \"text\": \"15\", \"x\": 23.01, \"y\": 17.35, \"yshift\": 15, \"z\": 24.310000000000002}, {\"showarrow\": false, \"text\": \"16\", \"x\": 22.770000000000003, \"y\": 16.080000000000002, \"yshift\": 15, \"z\": 23.95}, {\"showarrow\": false, \"text\": \"17\", \"x\": 22.59, \"y\": 15.8, \"yshift\": 15, \"z\": 22.650000000000002}, {\"showarrow\": false, \"text\": \"18\", \"x\": 22.330000000000002, \"y\": 14.48, \"yshift\": 15, \"z\": 22.34}, {\"showarrow\": false, \"text\": \"19\", \"x\": 22.59, \"y\": 16.66, \"yshift\": 15, \"z\": 21.64}, {\"showarrow\": false, \"text\": \"20\", \"x\": 22.839999999999996, \"y\": 17.95, \"yshift\": 15, \"z\": 22.0}, {\"showarrow\": false, \"text\": \"21\", \"x\": 22.25, \"y\": 20.459999999999997, \"yshift\": 15, \"z\": 19.2}, {\"showarrow\": false, \"text\": \"22\", \"x\": 19.29, \"y\": 24.310000000000002, \"yshift\": 15, \"z\": 16.830000000000002}, {\"showarrow\": false, \"text\": \"23\", \"x\": 18.33, \"y\": 23.490000000000002, \"yshift\": 15, \"z\": 17.03}, {\"showarrow\": false, \"text\": \"24\", \"x\": 17.24, \"y\": 23.96, \"yshift\": 15, \"z\": 17.62}, {\"showarrow\": false, \"text\": \"25\", \"x\": 17.28, \"y\": 25.259999999999998, \"yshift\": 15, \"z\": 17.92}, {\"showarrow\": false, \"text\": \"26\", \"x\": 18.85, \"y\": 25.87, \"yshift\": 15, \"z\": 17.38}, {\"showarrow\": false, \"text\": \"27\", \"x\": 21.78, \"y\": 25.18, \"yshift\": 15, \"z\": 17.490000000000002}, {\"showarrow\": false, \"text\": \"28\", \"x\": 22.599999999999998, \"y\": 24.729999999999997, \"yshift\": 15, \"z\": 15.96}, {\"showarrow\": false, \"text\": \"29\", \"x\": 21.31, \"y\": 25.990000000000002, \"yshift\": 15, \"z\": 15.96}, {\"showarrow\": false, \"text\": \"30\", \"x\": 19.45, \"y\": 23.42, \"yshift\": 15, \"z\": 14.64}, {\"showarrow\": false, \"text\": \"31\", \"x\": 22.5, \"y\": 19.68, \"yshift\": 15, \"z\": 15.85}, {\"showarrow\": false, \"text\": \"32\", \"x\": 23.439999999999998, \"y\": 17.6, \"yshift\": 15, \"z\": 16.84}, {\"showarrow\": false, \"text\": \"33\", \"x\": 23.63, \"y\": 17.36, \"yshift\": 15, \"z\": 19.27}, {\"showarrow\": false, \"text\": \"34\", \"x\": 23.35, \"y\": 21.230000000000004, \"yshift\": 15, \"z\": 21.9}, {\"showarrow\": false, \"text\": \"35\", \"x\": 23.450000000000003, \"y\": 20.21, \"yshift\": 15, \"z\": 24.18}, {\"showarrow\": false, \"text\": \"36\", \"x\": 23.159999999999997, \"y\": 17.56, \"yshift\": 15, \"z\": 25.36}, {\"showarrow\": false, \"text\": \"37\", \"x\": 21.93, \"y\": 14.01, \"yshift\": 15, \"z\": 23.15}, {\"showarrow\": false, \"text\": \"38\", \"x\": 23.15, \"y\": 14.059999999999999, \"yshift\": 15, \"z\": 21.93}, {\"showarrow\": false, \"text\": \"39\", \"x\": 21.92, \"y\": 21.28, \"yshift\": 15, \"z\": 19.85}, {\"showarrow\": false, \"text\": \"40\", \"x\": 16.37, \"y\": 23.330000000000002, \"yshift\": 15, \"z\": 17.84}, {\"showarrow\": false, \"text\": \"41\", \"x\": 16.490000000000002, \"y\": 25.84, \"yshift\": 15, \"z\": 18.41}]}], \"label\": \"Indices\", \"method\": \"relayout\"}, {\"args\": [{\"scene.annotations\": []}], \"label\": \"Hide All\", \"method\": \"relayout\"}], \"direction\": \"right\", \"type\": \"buttons\", \"xanchor\": \"left\", \"yanchor\": \"top\"}]},                        {\"responsive\": true}                    ).then(function(){\n",
       "                            \n",
       "var gd = document.getElementById('e3d38b4a-4d90-4148-97a1-1a9ff781bf38');\n",
       "var x = new MutationObserver(function (mutations, observer) {{\n",
       "        var display = window.getComputedStyle(gd).display;\n",
       "        if (!display || display === 'none') {{\n",
       "            console.log([gd, 'removed!']);\n",
       "            Plotly.purge(gd);\n",
       "            observer.disconnect();\n",
       "        }}\n",
       "}});\n",
       "\n",
       "// Listen for the removal of the full notebook cells\n",
       "var notebookContainer = gd.closest('#notebook-container');\n",
       "if (notebookContainer) {{\n",
       "    x.observe(notebookContainer, {childList: true});\n",
       "}}\n",
       "\n",
       "// Listen for the clearing of the current output cell\n",
       "var outputEl = gd.closest('.output');\n",
       "if (outputEl) {{\n",
       "    x.observe(outputEl, {childList: true});\n",
       "}}\n",
       "\n",
       "                        })                };                });            </script>        </div>"
      ]
     },
     "metadata": {},
     "output_type": "display_data"
    }
   ],
   "source": [
    "init_notebook_mode(connected=True)\n",
    "mg = MolGraph()\n",
    "mg.read_grofile('/root/repo/prepare/4G3E_2/SYSTEM/Protein/inter0~mol411/morph.gro')\n",
    "f = to_plotly_figure(mg)\n",
    "iplot(f)"
   ]
  },
  {
   "cell_type": "code",
   "execution_count": 5,
   "id": "5c061b13",
   "metadata": {
    "scrolled": false
   },
   "outputs": [
    {
     "data": {
      "application/vnd.jupyter.widget-view+json": {
       "model_id": "b43b957cbac64b53b3cdd0486b0d5106",
       "version_major": 2,
       "version_minor": 0
      },
      "text/plain": [
       "FigureWidget({\n",
       "    'data': [{'hoverinfo': 'none',\n",
       "              'marker': {'color': [black, black, black, blac…"
      ]
     },
     "metadata": {},
     "output_type": "display_data"
    }
   ],
   "source": [
    "file_name = '/root/repo/prepare/4G3E_2/SYSTEM/inter0_aligned_inter0~mol417.pickle'\n",
    "\n",
    "mg = MolGraph()\n",
    "\n",
    "with open(file_name, 'rb') as f:\n",
    "    bundle = pickle.load(f)\n",
    "\n",
    "mol1 = bundle['mol1']\n",
    "mol2 = bundle['mol2']\n",
    "mapping = bundle['mcs']\n",
    "\n",
    "mg.draw_mol(mol1)\n",
    "mg.draw_mol(mol2, pos_offset=10)\n",
    "mg.generate_mapping(mapping)\n",
    "\n",
    "\n",
    "# Create the Plotly figure object\n",
    "f = to_plotly_figure(mg)\n",
    "# f.layout.hovermode = 'closest'\n",
    "\n",
    "adj_atoms = []\n",
    "for atom, neighbors in mg.mapping_list.items():\n",
    "    for neigh in neighbors:\n",
    "        adj_atoms.append([atom, neigh])\n",
    "        \n",
    "def mapping_xyz(mg, adj_atoms):\n",
    "    x = []\n",
    "    y = []\n",
    "    z = []\n",
    "    for i, j in adj_atoms:\n",
    "        x += (mg.x[i], mg.x[j], None)\n",
    "        y += (mg.y[i], mg.y[j], None)\n",
    "        z += (mg.z[i], mg.z[j], None)\n",
    "    x = np.array(x).reshape(-1, 3)\n",
    "    y = np.array(y).reshape(-1, 3)\n",
    "    z = np.array(z).reshape(-1, 3)\n",
    "    return x, y, z\n",
    "    \n",
    "    \n",
    "\n",
    "def show_one_line(trace, points, selector):\n",
    "    if points.point_inds:\n",
    "        idx = points.point_inds[0]              \n",
    "        mask = np.array([False] * len(adj_atoms))\n",
    "        for i, pair  in enumerate(adj_atoms):\n",
    "            if idx in pair:\n",
    "                mask[i] = True\n",
    "\n",
    "        new_x = x[mask, :].reshape(-1).tolist()\n",
    "        new_y = y[mask, :].reshape(-1).tolist()\n",
    "        new_z = z[mask, :].reshape(-1).tolist()\n",
    "\n",
    "\n",
    "        if idx in mg.mapping_list:\n",
    "            with f.batch_update(): \n",
    "                mapping_scatter['x'] = new_x\n",
    "                mapping_scatter['y'] = new_y\n",
    "                mapping_scatter['z'] = new_z\n",
    "\n",
    "def show_no_line(trace, points, selector):\n",
    "    print('leave')\n",
    "    with f.batch_update():\n",
    "        mapping_scatter['x'] = []\n",
    "        mapping_scatter['y'] = []\n",
    "        mapping_scatter['z'] = []\n",
    "    \n",
    "\n",
    "atom_scatter, bond_scatter, mapping_scatter = f.data\n",
    "\n",
    "x, y, z = mapping_xyz(mg, adj_atoms)\n",
    "\n",
    "atom_scatter.on_hover(show_one_line)                \n",
    "# atom_scatter.on_unhover(show_no_line)\n",
    "f"
   ]
  },
  {
   "cell_type": "code",
   "execution_count": null,
   "id": "df169ce0",
   "metadata": {},
   "outputs": [],
   "source": []
  }
 ],
 "metadata": {
  "kernelspec": {
   "display_name": "Python 3",
   "language": "python",
   "name": "python3"
  },
  "language_info": {
   "codemirror_mode": {
    "name": "ipython",
    "version": 3
   },
   "file_extension": ".py",
   "mimetype": "text/x-python",
   "name": "python",
   "nbconvert_exporter": "python",
   "pygments_lexer": "ipython3",
   "version": "3.7.8"
  }
 },
 "nbformat": 4,
 "nbformat_minor": 5
}
